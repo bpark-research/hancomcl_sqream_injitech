{
 "cells": [
  {
   "cell_type": "code",
   "execution_count": 16,
   "metadata": {},
   "outputs": [],
   "source": [
    "import hail as hl"
   ]
  },
  {
   "cell_type": "code",
   "execution_count": 2,
   "metadata": {},
   "outputs": [
    {
     "name": "stdout",
     "output_type": "stream",
     "text": [
      "Hail Team. Hail 0.2.130-bea04d9c79b5. https://github.com/hail-is/hail/releases/tag/0.2.130.\n"
     ]
    }
   ],
   "source": [
    "print(hl.citation())"
   ]
  },
  {
   "cell_type": "code",
   "execution_count": 17,
   "metadata": {},
   "outputs": [
    {
     "name": "stderr",
     "output_type": "stream",
     "text": [
      "/home/bpark/miniconda3/envs/hail/lib/python3.9/site-packages/hail/context.py:352: UserWarning:\n",
      "\n",
      "Using hl.init with a default_reference argument is deprecated. To set a default reference genome after initializing hail, call `hl.default_reference` with an argument to set the default reference genome.\n",
      "\n",
      "Running on Apache Spark version 3.3.4\n",
      "SparkUI available at http://192.168.0.130:4040\n",
      "Welcome to\n",
      "     __  __     <>__\n",
      "    / /_/ /__  __/ /\n",
      "   / __  / _ `/ / /\n",
      "  /_/ /_/\\_,_/_/_/   version 0.2.130-bea04d9c79b5\n",
      "LOGGING: writing to /home/bpark/projects/hail-20240508-0848-0.2.130-bea04d9c79b5.log\n"
     ]
    }
   ],
   "source": [
    "config = {\n",
    "    'spark.driver.memory' : '400g'\n",
    "}\n",
    "hl.init(\n",
    "    spark_conf = config,\n",
    "    default_reference = 'GRCh38'\n",
    "    )"
   ]
  },
  {
   "cell_type": "code",
   "execution_count": 4,
   "metadata": {},
   "outputs": [],
   "source": [
    "gvcfs = ['1kg/HG03073.hard-filtered.gvcf.bgz', '1kg/HG03458.hard-filtered.gvcf.bgz', '1kg/NA19017.hard-filtered.gvcf.bgz', '1kg/HG01884.hard-filtered.gvcf.bgz', '1kg/HG03082.hard-filtered.gvcf.bgz', '1kg/HG03464.hard-filtered.gvcf.bgz', '1kg/NA19031.hard-filtered.gvcf.bgz', '1kg/HG01894.hard-filtered.gvcf.bgz', '1kg/HG03085.hard-filtered.gvcf.bgz', '1kg/HG03470.hard-filtered.gvcf.bgz', '1kg/NA19036.hard-filtered.gvcf.bgz', '1kg/HG02012.hard-filtered.gvcf.bgz', '1kg/HG03086.hard-filtered.gvcf.bgz', '1kg/HG03479.hard-filtered.gvcf.bgz', '1kg/NA19037.hard-filtered.gvcf.bgz', '1kg/HG02511.hard-filtered.gvcf.bgz', '1kg/HG03091.hard-filtered.gvcf.bgz', '1kg/HG03480.hard-filtered.gvcf.bgz', '1kg/NA19042.hard-filtered.gvcf.bgz', '1kg/HG02562.hard-filtered.gvcf.bgz', '1kg/HG03097.hard-filtered.gvcf.bgz', '1kg/HG03485.hard-filtered.gvcf.bgz', '1kg/NA19099.hard-filtered.gvcf.bgz', '1kg/HG02583.hard-filtered.gvcf.bgz', '1kg/HG03108.hard-filtered.gvcf.bgz', '1kg/HG03486.hard-filtered.gvcf.bgz', '1kg/NA19118.hard-filtered.gvcf.bgz', '1kg/HG02589.hard-filtered.gvcf.bgz', '1kg/HG03117.hard-filtered.gvcf.bgz', '1kg/HG03499.hard-filtered.gvcf.bgz', '1kg/NA19131.hard-filtered.gvcf.bgz', '1kg/HG02624.hard-filtered.gvcf.bgz', '1kg/HG03126.hard-filtered.gvcf.bgz', '1kg/HG03517.hard-filtered.gvcf.bgz', '1kg/NA19159.hard-filtered.gvcf.bgz', '1kg/HG02704.hard-filtered.gvcf.bgz', '1kg/HG03159.hard-filtered.gvcf.bgz', '1kg/HG03548.hard-filtered.gvcf.bgz', '1kg/NA19185.hard-filtered.gvcf.bgz', '1kg/HG02757.hard-filtered.gvcf.bgz', '1kg/HG03267.hard-filtered.gvcf.bgz', '1kg/HG03557.hard-filtered.gvcf.bgz', '1kg/NA19190.hard-filtered.gvcf.bgz', '1kg/HG02806.hard-filtered.gvcf.bgz', '1kg/HG03270.hard-filtered.gvcf.bgz', '1kg/HG03558.hard-filtered.gvcf.bgz', '1kg/NA19209.hard-filtered.gvcf.bgz', '1kg/HG02814.hard-filtered.gvcf.bgz', '1kg/HG03279.hard-filtered.gvcf.bgz', '1kg/HG03563.hard-filtered.gvcf.bgz', '1kg/NA19214.hard-filtered.gvcf.bgz', '1kg/HG02855.hard-filtered.gvcf.bgz', '1kg/HG03351.hard-filtered.gvcf.bgz', '1kg/HG03567.hard-filtered.gvcf.bgz', '1kg/NA19238.hard-filtered.gvcf.bgz', '1kg/HG02880.hard-filtered.gvcf.bgz', '1kg/HG03366.hard-filtered.gvcf.bgz', '1kg/HG03572.hard-filtered.gvcf.bgz', '1kg/NA19257.hard-filtered.gvcf.bgz', '1kg/HG02885.hard-filtered.gvcf.bgz', '1kg/HG03369.hard-filtered.gvcf.bgz', '1kg/HG03575.hard-filtered.gvcf.bgz', '1kg/NA19308.hard-filtered.gvcf.bgz', '1kg/HG02952.hard-filtered.gvcf.bgz', '1kg/HG03372.hard-filtered.gvcf.bgz', '1kg/HG03578.hard-filtered.gvcf.bgz', '1kg/NA19314.hard-filtered.gvcf.bgz', '1kg/HG02978.hard-filtered.gvcf.bgz', '1kg/HG03380.hard-filtered.gvcf.bgz', '1kg/HG03583.hard-filtered.gvcf.bgz', '1kg/NA19316.hard-filtered.gvcf.bgz', '1kg/HG03052.hard-filtered.gvcf.bgz', '1kg/HG03419.hard-filtered.gvcf.bgz', '1kg/HG03584.hard-filtered.gvcf.bgz', '1kg/NA19327.hard-filtered.gvcf.bgz', '1kg/HG03054.hard-filtered.gvcf.bgz', '1kg/HG03428.hard-filtered.gvcf.bgz', '1kg/NA19328.hard-filtered.gvcf.bgz', '1kg/HG03055.hard-filtered.gvcf.bgz', '1kg/HG03438.hard-filtered.gvcf.bgz', '1kg/NA18489.hard-filtered.gvcf.bgz', '1kg/NA19374.hard-filtered.gvcf.bgz', '1kg/HG03058.hard-filtered.gvcf.bgz', '1kg/HG03449.hard-filtered.gvcf.bgz', '1kg/NA18505.hard-filtered.gvcf.bgz', '1kg/NA19835.hard-filtered.gvcf.bgz', '1kg/HG03061.hard-filtered.gvcf.bgz', '1kg/HG03452.hard-filtered.gvcf.bgz', '1kg/NA18508.hard-filtered.gvcf.bgz', '1kg/NA20127.hard-filtered.gvcf.bgz', '1kg/HG03064.hard-filtered.gvcf.bgz', '1kg/HG03453.hard-filtered.gvcf.bgz', '1kg/NA18511.hard-filtered.gvcf.bgz', '1kg/NA20287.hard-filtered.gvcf.bgz', '1kg/HG03069.hard-filtered.gvcf.bgz', '1kg/HG03455.hard-filtered.gvcf.bgz', '1kg/NA18518.hard-filtered.gvcf.bgz', '1kg/HG03072.hard-filtered.gvcf.bgz', '1kg/HG03457.hard-filtered.gvcf.bgz', '1kg/NA18881.hard-filtered.gvcf.bgz']"
   ]
  },
  {
   "cell_type": "code",
   "execution_count": 5,
   "metadata": {},
   "outputs": [
    {
     "data": {
      "text/plain": [
       "100"
      ]
     },
     "execution_count": 5,
     "metadata": {},
     "output_type": "execute_result"
    }
   ],
   "source": [
    "len(gvcfs)"
   ]
  },
  {
   "cell_type": "code",
   "execution_count": 6,
   "metadata": {},
   "outputs": [
    {
     "name": "stderr",
     "output_type": "stream",
     "text": [
      "2024-05-08 06:40:20.044 Hail: WARN: expected input file 'file:/home/bpark/projects/1kg/HG03073.hard-filtered.gvcf.bgz' to end in .vcf[.bgz, .gz]\n",
      "2024-05-08 06:40:20.601 Hail: WARN: expected input file 'file:/home/bpark/projects/1kg/HG03073.hard-filtered.gvcf.bgz' to end in .vcf[.bgz, .gz]\n",
      "2024-05-08 06:40:21.660 Hail: INFO: scanning VCF for sortedness...\n",
      "2024-05-08 06:41:22.967 Hail: INFO: Coerced sorted VCF - no additional import work to do\n",
      "2024-05-08 06:41:24.770 Hail: WARN: generated combiner save path of tmp/combiner-plans/vds-combiner-plan_15c241ef5c53c46b3b4f46bcce32e6cd5ff316b264bce32d2c7ab147e78a9158_0.2.130.json\n",
      "2024-05-08 06:42:07.302 Hail: INFO: Running VDS combiner:\n",
      "    VDS arguments: 0 datasets with 0 samples\n",
      "    GVCF arguments: 100 inputs/samples\n",
      "    Branch factor: 100\n",
      "    GVCF merge batch size: 50\n",
      "2024-05-08 06:42:07.391 Hail: INFO: GVCF combine (job 1): merging 100 GVCFs into 1 datasets\n",
      "2024-05-08 07:45:34.987 Hail: INFO: wrote matrix table with 2634328055 rows and 100 columns in 2586 partitions to vds/test.vds/reference_data\n",
      "2024-05-08 08:31:42.325 Hail: INFO: wrote matrix table with 36564641 rows and 100 columns in 2586 partitions to vds/test.vds/variant_data\n",
      "2024-05-08 08:31:42.395 Hail: INFO: VDS combiner: computing reference block max length...\n",
      "2024-05-08 08:35:42.037 Hail: INFO: Finished VDS combiner!\n"
     ]
    },
    {
     "name": "stderr",
     "output_type": "stream",
     "text": [
      "[Stage 1:>                                                          (0 + 4) / 4]\r"
     ]
    }
   ],
   "source": [
    "combiner = hl.vds.new_combiner(\n",
    "    output_path ='vds/test.vds',\n",
    "    temp_path='tmp/',\n",
    "    #save_path='tmp',\n",
    "    gvcf_paths= gvcfs,\n",
    "    use_genome_default_intervals = True\n",
    ")"
   ]
  },
  {
   "cell_type": "code",
   "execution_count": 7,
   "metadata": {},
   "outputs": [
    {
     "name": "stderr",
     "output_type": "stream",
     "text": [
      "[Stage 6:====================================================>(2583 + 3) / 2586]\r"
     ]
    },
    {
     "name": "stdout",
     "output_type": "stream",
     "text": [
      "CPU times: user 5.78 s, sys: 2.39 s, total: 8.16 s\n",
      "Wall time: 1h 53min 34s\n"
     ]
    },
    {
     "name": "stderr",
     "output_type": "stream",
     "text": [
      "[Stage 6:====================================================>(2585 + 1) / 2586]\r"
     ]
    }
   ],
   "source": [
    "%%time\n",
    "combiner.run()"
   ]
  },
  {
   "cell_type": "code",
   "execution_count": 18,
   "metadata": {},
   "outputs": [
    {
     "name": "stdout",
     "output_type": "stream",
     "text": [
      "CPU times: user 22 ms, sys: 0 ns, total: 22 ms\n",
      "Wall time: 184 ms\n"
     ]
    }
   ],
   "source": [
    "%%time\n",
    "vds = hl.vds.read_vds('vds/test.vds')"
   ]
  },
  {
   "cell_type": "code",
   "execution_count": 19,
   "metadata": {},
   "outputs": [
    {
     "name": "stderr",
     "output_type": "stream",
     "text": [
      "[Stage 6:====================================================>(2585 + 1) / 2586]\r"
     ]
    },
    {
     "name": "stdout",
     "output_type": "stream",
     "text": [
      "CPU times: user 1.96 s, sys: 867 ms, total: 2.82 s\n",
      "Wall time: 20min 28s\n"
     ]
    }
   ],
   "source": [
    "%%time\n",
    "dense_mt = hl.vds.to_dense_mt(vds)\n",
    "dense_mt.write('mt/dense.mt')"
   ]
  },
  {
   "cell_type": "code",
   "execution_count": 20,
   "metadata": {},
   "outputs": [
    {
     "ename": "FatalError",
     "evalue": "HailException: VCF does not support the type(s) for the following FORMAT field(s):\n\t'gvcf_info': 'struct{DB: bool, FS: float64, FractionInformativeReads: float64, LOD: float64, MQ: float64, MQRankSum: float64, QD: float64, R2_5P_bias: float64, ReadPosRankSum: float64, SOR: float64}'.\n\nJava stack trace:\nis.hail.utils.HailException: VCF does not support the type(s) for the following FORMAT field(s):\n\t'gvcf_info': 'struct{DB: bool, FS: float64, FractionInformativeReads: float64, LOD: float64, MQ: float64, MQRankSum: float64, QD: float64, R2_5P_bias: float64, ReadPosRankSum: float64, SOR: float64}'.\n\tat is.hail.utils.ErrorHandling.fatal(ErrorHandling.scala:19)\n\tat is.hail.utils.ErrorHandling.fatal$(ErrorHandling.scala:19)\n\tat is.hail.utils.package$.fatal(package.scala:89)\n\tat is.hail.io.vcf.ExportVCF$.checkFormatSignature(ExportVCF.scala:128)\n\tat is.hail.expr.ir.MatrixVCFWriter.lower(MatrixWriter.scala:768)\n\tat is.hail.expr.ir.WrappedMatrixWriter.lower(MatrixWriter.scala:68)\n\tat is.hail.expr.ir.lowering.LowerTableIR$.apply(LowerTableIR.scala:1021)\n\tat is.hail.expr.ir.lowering.LowerToCDA$.lower(LowerToCDA.scala:27)\n\tat is.hail.expr.ir.lowering.LowerToCDA$.apply(LowerToCDA.scala:11)\n\tat is.hail.expr.ir.lowering.LowerToDistributedArrayPass.transform(LoweringPass.scala:91)\n\tat is.hail.expr.ir.LowerOrInterpretNonCompilable$.evaluate$1(LowerOrInterpretNonCompilable.scala:27)\n\tat is.hail.expr.ir.LowerOrInterpretNonCompilable$.rewrite$1(LowerOrInterpretNonCompilable.scala:59)\n\tat is.hail.expr.ir.LowerOrInterpretNonCompilable$.apply(LowerOrInterpretNonCompilable.scala:64)\n\tat is.hail.expr.ir.lowering.LowerOrInterpretNonCompilablePass$.transform(LoweringPass.scala:83)\n\tat is.hail.expr.ir.lowering.LoweringPass.$anonfun$apply$3(LoweringPass.scala:32)\n\tat is.hail.utils.ExecutionTimer.time(ExecutionTimer.scala:84)\n\tat is.hail.expr.ir.lowering.LoweringPass.$anonfun$apply$1(LoweringPass.scala:32)\n\tat is.hail.utils.ExecutionTimer.time(ExecutionTimer.scala:84)\n\tat is.hail.expr.ir.lowering.LoweringPass.apply(LoweringPass.scala:30)\n\tat is.hail.expr.ir.lowering.LoweringPass.apply$(LoweringPass.scala:29)\n\tat is.hail.expr.ir.lowering.LowerOrInterpretNonCompilablePass$.apply(LoweringPass.scala:78)\n\tat is.hail.expr.ir.lowering.LoweringPipeline.$anonfun$apply$1(LoweringPipeline.scala:21)\n\tat is.hail.expr.ir.lowering.LoweringPipeline.$anonfun$apply$1$adapted(LoweringPipeline.scala:19)\n\tat scala.collection.mutable.ResizableArray.foreach(ResizableArray.scala:62)\n\tat scala.collection.mutable.ResizableArray.foreach$(ResizableArray.scala:55)\n\tat scala.collection.mutable.ArrayBuffer.foreach(ArrayBuffer.scala:49)\n\tat is.hail.expr.ir.lowering.LoweringPipeline.apply(LoweringPipeline.scala:19)\n\tat is.hail.expr.ir.CompileAndEvaluate$._apply(CompileAndEvaluate.scala:45)\n\tat is.hail.backend.spark.SparkBackend._execute(SparkBackend.scala:600)\n\tat is.hail.backend.spark.SparkBackend.$anonfun$execute$4(SparkBackend.scala:636)\n\tat is.hail.utils.ExecutionTimer.time(ExecutionTimer.scala:84)\n\tat is.hail.backend.spark.SparkBackend.$anonfun$execute$3(SparkBackend.scala:631)\n\tat is.hail.backend.spark.SparkBackend.$anonfun$execute$3$adapted(SparkBackend.scala:630)\n\tat is.hail.backend.ExecuteContext$.$anonfun$scoped$3(ExecuteContext.scala:78)\n\tat is.hail.utils.package$.using(package.scala:664)\n\tat is.hail.backend.ExecuteContext$.$anonfun$scoped$2(ExecuteContext.scala:78)\n\tat is.hail.utils.package$.using(package.scala:664)\n\tat is.hail.annotations.RegionPool$.scoped(RegionPool.scala:13)\n\tat is.hail.backend.ExecuteContext$.scoped(ExecuteContext.scala:65)\n\tat is.hail.backend.spark.SparkBackend.$anonfun$withExecuteContext$2(SparkBackend.scala:407)\n\tat is.hail.utils.ExecutionTimer$.time(ExecutionTimer.scala:55)\n\tat is.hail.utils.ExecutionTimer$.logTime(ExecutionTimer.scala:62)\n\tat is.hail.backend.spark.SparkBackend.withExecuteContext(SparkBackend.scala:393)\n\tat is.hail.backend.spark.SparkBackend.execute(SparkBackend.scala:630)\n\tat is.hail.backend.BackendHttpHandler.handle(BackendServer.scala:88)\n\tat com.sun.net.httpserver.Filter$Chain.doFilter(Filter.java:79)\n\tat sun.net.httpserver.AuthFilter.doFilter(AuthFilter.java:83)\n\tat com.sun.net.httpserver.Filter$Chain.doFilter(Filter.java:82)\n\tat sun.net.httpserver.ServerImpl$Exchange$LinkHandler.handle(ServerImpl.java:822)\n\tat com.sun.net.httpserver.Filter$Chain.doFilter(Filter.java:79)\n\tat sun.net.httpserver.ServerImpl$Exchange.run(ServerImpl.java:794)\n\tat sun.net.httpserver.ServerImpl$DefaultExecutor.execute(ServerImpl.java:199)\n\tat sun.net.httpserver.ServerImpl$Dispatcher.handle(ServerImpl.java:544)\n\tat sun.net.httpserver.ServerImpl$Dispatcher.run(ServerImpl.java:509)\n\tat java.lang.Thread.run(Thread.java:750)\n\n\n\nHail version: 0.2.130-bea04d9c79b5\nError summary: HailException: VCF does not support the type(s) for the following FORMAT field(s):\n\t'gvcf_info': 'struct{DB: bool, FS: float64, FractionInformativeReads: float64, LOD: float64, MQ: float64, MQRankSum: float64, QD: float64, R2_5P_bias: float64, ReadPosRankSum: float64, SOR: float64}'.",
     "output_type": "error",
     "traceback": [
      "\u001b[0;31m---------------------------------------------------------------------------\u001b[0m",
      "\u001b[0;31mFatalError\u001b[0m                                Traceback (most recent call last)",
      "File \u001b[0;32m<timed eval>:1\u001b[0m\n",
      "File \u001b[0;32m~/miniconda3/envs/hail/lib/python3.9/site-packages/decorator.py:232\u001b[0m, in \u001b[0;36mdecorate.<locals>.fun\u001b[0;34m(*args, **kw)\u001b[0m\n\u001b[1;32m    230\u001b[0m \u001b[38;5;28;01mif\u001b[39;00m \u001b[38;5;129;01mnot\u001b[39;00m kwsyntax:\n\u001b[1;32m    231\u001b[0m     args, kw \u001b[38;5;241m=\u001b[39m fix(args, kw, sig)\n\u001b[0;32m--> 232\u001b[0m \u001b[38;5;28;01mreturn\u001b[39;00m \u001b[43mcaller\u001b[49m\u001b[43m(\u001b[49m\u001b[43mfunc\u001b[49m\u001b[43m,\u001b[49m\u001b[43m \u001b[49m\u001b[38;5;241;43m*\u001b[39;49m\u001b[43m(\u001b[49m\u001b[43mextras\u001b[49m\u001b[43m \u001b[49m\u001b[38;5;241;43m+\u001b[39;49m\u001b[43m \u001b[49m\u001b[43margs\u001b[49m\u001b[43m)\u001b[49m\u001b[43m,\u001b[49m\u001b[43m \u001b[49m\u001b[38;5;241;43m*\u001b[39;49m\u001b[38;5;241;43m*\u001b[39;49m\u001b[43mkw\u001b[49m\u001b[43m)\u001b[49m\n",
      "File \u001b[0;32m~/miniconda3/envs/hail/lib/python3.9/site-packages/hail/typecheck/check.py:585\u001b[0m, in \u001b[0;36m_make_dec.<locals>.wrapper\u001b[0;34m(__original_func, *args, **kwargs)\u001b[0m\n\u001b[1;32m    582\u001b[0m \u001b[38;5;129m@decorator\u001b[39m\n\u001b[1;32m    583\u001b[0m \u001b[38;5;28;01mdef\u001b[39;00m \u001b[38;5;21mwrapper\u001b[39m(__original_func: Callable[\u001b[38;5;241m.\u001b[39m\u001b[38;5;241m.\u001b[39m\u001b[38;5;241m.\u001b[39m, T], \u001b[38;5;241m*\u001b[39margs, \u001b[38;5;241m*\u001b[39m\u001b[38;5;241m*\u001b[39mkwargs) \u001b[38;5;241m-\u001b[39m\u001b[38;5;241m>\u001b[39m T:\n\u001b[1;32m    584\u001b[0m     args_, kwargs_ \u001b[38;5;241m=\u001b[39m check_all(__original_func, args, kwargs, checkers, is_method\u001b[38;5;241m=\u001b[39mis_method)\n\u001b[0;32m--> 585\u001b[0m     \u001b[38;5;28;01mreturn\u001b[39;00m \u001b[43m__original_func\u001b[49m\u001b[43m(\u001b[49m\u001b[38;5;241;43m*\u001b[39;49m\u001b[43margs_\u001b[49m\u001b[43m,\u001b[49m\u001b[43m \u001b[49m\u001b[38;5;241;43m*\u001b[39;49m\u001b[38;5;241;43m*\u001b[39;49m\u001b[43mkwargs_\u001b[49m\u001b[43m)\u001b[49m\n",
      "File \u001b[0;32m~/miniconda3/envs/hail/lib/python3.9/site-packages/hail/methods/impex.py:636\u001b[0m, in \u001b[0;36mexport_vcf\u001b[0;34m(dataset, output, append_to_header, parallel, metadata, tabix)\u001b[0m\n\u001b[1;32m    633\u001b[0m parallel \u001b[38;5;241m=\u001b[39m ir\u001b[38;5;241m.\u001b[39mExportType\u001b[38;5;241m.\u001b[39mdefault(parallel)\n\u001b[1;32m    635\u001b[0m writer \u001b[38;5;241m=\u001b[39m ir\u001b[38;5;241m.\u001b[39mMatrixVCFWriter(output, append_to_header, parallel, metadata, tabix)\n\u001b[0;32m--> 636\u001b[0m \u001b[43mEnv\u001b[49m\u001b[38;5;241;43m.\u001b[39;49m\u001b[43mbackend\u001b[49m\u001b[43m(\u001b[49m\u001b[43m)\u001b[49m\u001b[38;5;241;43m.\u001b[39;49m\u001b[43mexecute\u001b[49m\u001b[43m(\u001b[49m\u001b[43mir\u001b[49m\u001b[38;5;241;43m.\u001b[39;49m\u001b[43mMatrixWrite\u001b[49m\u001b[43m(\u001b[49m\u001b[43mdataset\u001b[49m\u001b[38;5;241;43m.\u001b[39;49m\u001b[43m_mir\u001b[49m\u001b[43m,\u001b[49m\u001b[43m \u001b[49m\u001b[43mwriter\u001b[49m\u001b[43m)\u001b[49m\u001b[43m)\u001b[49m\n",
      "File \u001b[0;32m~/miniconda3/envs/hail/lib/python3.9/site-packages/hail/backend/spark_backend.py:226\u001b[0m, in \u001b[0;36mSparkBackend.execute\u001b[0;34m(self, ir, timed)\u001b[0m\n\u001b[1;32m    223\u001b[0m     \u001b[38;5;28;01mexcept\u001b[39;00m \u001b[38;5;167;01mException\u001b[39;00m \u001b[38;5;28;01mas\u001b[39;00m fatal:\n\u001b[1;32m    224\u001b[0m         \u001b[38;5;28;01mraise\u001b[39;00m err \u001b[38;5;28;01mfrom\u001b[39;00m \u001b[38;5;21;01mfatal\u001b[39;00m\n\u001b[0;32m--> 226\u001b[0m \u001b[38;5;28;01mraise\u001b[39;00m err\n",
      "File \u001b[0;32m~/miniconda3/envs/hail/lib/python3.9/site-packages/hail/backend/spark_backend.py:218\u001b[0m, in \u001b[0;36mSparkBackend.execute\u001b[0;34m(self, ir, timed)\u001b[0m\n\u001b[1;32m    216\u001b[0m \u001b[38;5;28;01mdef\u001b[39;00m \u001b[38;5;21mexecute\u001b[39m(\u001b[38;5;28mself\u001b[39m, ir: BaseIR, timed: \u001b[38;5;28mbool\u001b[39m \u001b[38;5;241m=\u001b[39m \u001b[38;5;28;01mFalse\u001b[39;00m) \u001b[38;5;241m-\u001b[39m\u001b[38;5;241m>\u001b[39m Any:\n\u001b[1;32m    217\u001b[0m     \u001b[38;5;28;01mtry\u001b[39;00m:\n\u001b[0;32m--> 218\u001b[0m         \u001b[38;5;28;01mreturn\u001b[39;00m \u001b[38;5;28;43msuper\u001b[39;49m\u001b[43m(\u001b[49m\u001b[43m)\u001b[49m\u001b[38;5;241;43m.\u001b[39;49m\u001b[43mexecute\u001b[49m\u001b[43m(\u001b[49m\u001b[43mir\u001b[49m\u001b[43m,\u001b[49m\u001b[43m \u001b[49m\u001b[43mtimed\u001b[49m\u001b[43m)\u001b[49m\n\u001b[1;32m    219\u001b[0m     \u001b[38;5;28;01mexcept\u001b[39;00m \u001b[38;5;167;01mException\u001b[39;00m \u001b[38;5;28;01mas\u001b[39;00m err:\n\u001b[1;32m    220\u001b[0m         \u001b[38;5;28;01mif\u001b[39;00m \u001b[38;5;28mself\u001b[39m\u001b[38;5;241m.\u001b[39m_copy_log_on_error:\n",
      "File \u001b[0;32m~/miniconda3/envs/hail/lib/python3.9/site-packages/hail/backend/backend.py:190\u001b[0m, in \u001b[0;36mBackend.execute\u001b[0;34m(self, ir, timed)\u001b[0m\n\u001b[1;32m    188\u001b[0m     result, timings \u001b[38;5;241m=\u001b[39m \u001b[38;5;28mself\u001b[39m\u001b[38;5;241m.\u001b[39m_rpc(ActionTag\u001b[38;5;241m.\u001b[39mEXECUTE, payload)\n\u001b[1;32m    189\u001b[0m \u001b[38;5;28;01mexcept\u001b[39;00m FatalError \u001b[38;5;28;01mas\u001b[39;00m e:\n\u001b[0;32m--> 190\u001b[0m     \u001b[38;5;28;01mraise\u001b[39;00m e\u001b[38;5;241m.\u001b[39mmaybe_user_error(ir) \u001b[38;5;28;01mfrom\u001b[39;00m \u001b[38;5;28;01mNone\u001b[39;00m\n\u001b[1;32m    191\u001b[0m \u001b[38;5;28;01mif\u001b[39;00m ir\u001b[38;5;241m.\u001b[39mtyp \u001b[38;5;241m==\u001b[39m tvoid:\n\u001b[1;32m    192\u001b[0m     value \u001b[38;5;241m=\u001b[39m \u001b[38;5;28;01mNone\u001b[39;00m\n",
      "File \u001b[0;32m~/miniconda3/envs/hail/lib/python3.9/site-packages/hail/backend/backend.py:188\u001b[0m, in \u001b[0;36mBackend.execute\u001b[0;34m(self, ir, timed)\u001b[0m\n\u001b[1;32m    186\u001b[0m payload \u001b[38;5;241m=\u001b[39m ExecutePayload(\u001b[38;5;28mself\u001b[39m\u001b[38;5;241m.\u001b[39m_render_ir(ir), \u001b[38;5;124m'\u001b[39m\u001b[38;5;124m{\u001b[39m\u001b[38;5;124m\"\u001b[39m\u001b[38;5;124mname\u001b[39m\u001b[38;5;124m\"\u001b[39m\u001b[38;5;124m:\u001b[39m\u001b[38;5;124m\"\u001b[39m\u001b[38;5;124mStreamBufferSpec\u001b[39m\u001b[38;5;124m\"\u001b[39m\u001b[38;5;124m}\u001b[39m\u001b[38;5;124m'\u001b[39m, timed)\n\u001b[1;32m    187\u001b[0m \u001b[38;5;28;01mtry\u001b[39;00m:\n\u001b[0;32m--> 188\u001b[0m     result, timings \u001b[38;5;241m=\u001b[39m \u001b[38;5;28;43mself\u001b[39;49m\u001b[38;5;241;43m.\u001b[39;49m\u001b[43m_rpc\u001b[49m\u001b[43m(\u001b[49m\u001b[43mActionTag\u001b[49m\u001b[38;5;241;43m.\u001b[39;49m\u001b[43mEXECUTE\u001b[49m\u001b[43m,\u001b[49m\u001b[43m \u001b[49m\u001b[43mpayload\u001b[49m\u001b[43m)\u001b[49m\n\u001b[1;32m    189\u001b[0m \u001b[38;5;28;01mexcept\u001b[39;00m FatalError \u001b[38;5;28;01mas\u001b[39;00m e:\n\u001b[1;32m    190\u001b[0m     \u001b[38;5;28;01mraise\u001b[39;00m e\u001b[38;5;241m.\u001b[39mmaybe_user_error(ir) \u001b[38;5;28;01mfrom\u001b[39;00m \u001b[38;5;28;01mNone\u001b[39;00m\n",
      "File \u001b[0;32m~/miniconda3/envs/hail/lib/python3.9/site-packages/hail/backend/py4j_backend.py:221\u001b[0m, in \u001b[0;36mPy4JBackend._rpc\u001b[0;34m(self, action, payload)\u001b[0m\n\u001b[1;32m    219\u001b[0m \u001b[38;5;28;01mif\u001b[39;00m resp\u001b[38;5;241m.\u001b[39mstatus_code \u001b[38;5;241m>\u001b[39m\u001b[38;5;241m=\u001b[39m \u001b[38;5;241m400\u001b[39m:\n\u001b[1;32m    220\u001b[0m     error_json \u001b[38;5;241m=\u001b[39m orjson\u001b[38;5;241m.\u001b[39mloads(resp\u001b[38;5;241m.\u001b[39mcontent)\n\u001b[0;32m--> 221\u001b[0m     \u001b[38;5;28;01mraise\u001b[39;00m fatal_error_from_java_error_triplet(\n\u001b[1;32m    222\u001b[0m         error_json[\u001b[38;5;124m'\u001b[39m\u001b[38;5;124mshort\u001b[39m\u001b[38;5;124m'\u001b[39m], error_json[\u001b[38;5;124m'\u001b[39m\u001b[38;5;124mexpanded\u001b[39m\u001b[38;5;124m'\u001b[39m], error_json[\u001b[38;5;124m'\u001b[39m\u001b[38;5;124merror_id\u001b[39m\u001b[38;5;124m'\u001b[39m]\n\u001b[1;32m    223\u001b[0m     )\n\u001b[1;32m    224\u001b[0m \u001b[38;5;28;01mreturn\u001b[39;00m resp\u001b[38;5;241m.\u001b[39mcontent, resp\u001b[38;5;241m.\u001b[39mheaders\u001b[38;5;241m.\u001b[39mget(\u001b[38;5;124m'\u001b[39m\u001b[38;5;124mX-Hail-Timings\u001b[39m\u001b[38;5;124m'\u001b[39m, \u001b[38;5;124m'\u001b[39m\u001b[38;5;124m'\u001b[39m)\n",
      "\u001b[0;31mFatalError\u001b[0m: HailException: VCF does not support the type(s) for the following FORMAT field(s):\n\t'gvcf_info': 'struct{DB: bool, FS: float64, FractionInformativeReads: float64, LOD: float64, MQ: float64, MQRankSum: float64, QD: float64, R2_5P_bias: float64, ReadPosRankSum: float64, SOR: float64}'.\n\nJava stack trace:\nis.hail.utils.HailException: VCF does not support the type(s) for the following FORMAT field(s):\n\t'gvcf_info': 'struct{DB: bool, FS: float64, FractionInformativeReads: float64, LOD: float64, MQ: float64, MQRankSum: float64, QD: float64, R2_5P_bias: float64, ReadPosRankSum: float64, SOR: float64}'.\n\tat is.hail.utils.ErrorHandling.fatal(ErrorHandling.scala:19)\n\tat is.hail.utils.ErrorHandling.fatal$(ErrorHandling.scala:19)\n\tat is.hail.utils.package$.fatal(package.scala:89)\n\tat is.hail.io.vcf.ExportVCF$.checkFormatSignature(ExportVCF.scala:128)\n\tat is.hail.expr.ir.MatrixVCFWriter.lower(MatrixWriter.scala:768)\n\tat is.hail.expr.ir.WrappedMatrixWriter.lower(MatrixWriter.scala:68)\n\tat is.hail.expr.ir.lowering.LowerTableIR$.apply(LowerTableIR.scala:1021)\n\tat is.hail.expr.ir.lowering.LowerToCDA$.lower(LowerToCDA.scala:27)\n\tat is.hail.expr.ir.lowering.LowerToCDA$.apply(LowerToCDA.scala:11)\n\tat is.hail.expr.ir.lowering.LowerToDistributedArrayPass.transform(LoweringPass.scala:91)\n\tat is.hail.expr.ir.LowerOrInterpretNonCompilable$.evaluate$1(LowerOrInterpretNonCompilable.scala:27)\n\tat is.hail.expr.ir.LowerOrInterpretNonCompilable$.rewrite$1(LowerOrInterpretNonCompilable.scala:59)\n\tat is.hail.expr.ir.LowerOrInterpretNonCompilable$.apply(LowerOrInterpretNonCompilable.scala:64)\n\tat is.hail.expr.ir.lowering.LowerOrInterpretNonCompilablePass$.transform(LoweringPass.scala:83)\n\tat is.hail.expr.ir.lowering.LoweringPass.$anonfun$apply$3(LoweringPass.scala:32)\n\tat is.hail.utils.ExecutionTimer.time(ExecutionTimer.scala:84)\n\tat is.hail.expr.ir.lowering.LoweringPass.$anonfun$apply$1(LoweringPass.scala:32)\n\tat is.hail.utils.ExecutionTimer.time(ExecutionTimer.scala:84)\n\tat is.hail.expr.ir.lowering.LoweringPass.apply(LoweringPass.scala:30)\n\tat is.hail.expr.ir.lowering.LoweringPass.apply$(LoweringPass.scala:29)\n\tat is.hail.expr.ir.lowering.LowerOrInterpretNonCompilablePass$.apply(LoweringPass.scala:78)\n\tat is.hail.expr.ir.lowering.LoweringPipeline.$anonfun$apply$1(LoweringPipeline.scala:21)\n\tat is.hail.expr.ir.lowering.LoweringPipeline.$anonfun$apply$1$adapted(LoweringPipeline.scala:19)\n\tat scala.collection.mutable.ResizableArray.foreach(ResizableArray.scala:62)\n\tat scala.collection.mutable.ResizableArray.foreach$(ResizableArray.scala:55)\n\tat scala.collection.mutable.ArrayBuffer.foreach(ArrayBuffer.scala:49)\n\tat is.hail.expr.ir.lowering.LoweringPipeline.apply(LoweringPipeline.scala:19)\n\tat is.hail.expr.ir.CompileAndEvaluate$._apply(CompileAndEvaluate.scala:45)\n\tat is.hail.backend.spark.SparkBackend._execute(SparkBackend.scala:600)\n\tat is.hail.backend.spark.SparkBackend.$anonfun$execute$4(SparkBackend.scala:636)\n\tat is.hail.utils.ExecutionTimer.time(ExecutionTimer.scala:84)\n\tat is.hail.backend.spark.SparkBackend.$anonfun$execute$3(SparkBackend.scala:631)\n\tat is.hail.backend.spark.SparkBackend.$anonfun$execute$3$adapted(SparkBackend.scala:630)\n\tat is.hail.backend.ExecuteContext$.$anonfun$scoped$3(ExecuteContext.scala:78)\n\tat is.hail.utils.package$.using(package.scala:664)\n\tat is.hail.backend.ExecuteContext$.$anonfun$scoped$2(ExecuteContext.scala:78)\n\tat is.hail.utils.package$.using(package.scala:664)\n\tat is.hail.annotations.RegionPool$.scoped(RegionPool.scala:13)\n\tat is.hail.backend.ExecuteContext$.scoped(ExecuteContext.scala:65)\n\tat is.hail.backend.spark.SparkBackend.$anonfun$withExecuteContext$2(SparkBackend.scala:407)\n\tat is.hail.utils.ExecutionTimer$.time(ExecutionTimer.scala:55)\n\tat is.hail.utils.ExecutionTimer$.logTime(ExecutionTimer.scala:62)\n\tat is.hail.backend.spark.SparkBackend.withExecuteContext(SparkBackend.scala:393)\n\tat is.hail.backend.spark.SparkBackend.execute(SparkBackend.scala:630)\n\tat is.hail.backend.BackendHttpHandler.handle(BackendServer.scala:88)\n\tat com.sun.net.httpserver.Filter$Chain.doFilter(Filter.java:79)\n\tat sun.net.httpserver.AuthFilter.doFilter(AuthFilter.java:83)\n\tat com.sun.net.httpserver.Filter$Chain.doFilter(Filter.java:82)\n\tat sun.net.httpserver.ServerImpl$Exchange$LinkHandler.handle(ServerImpl.java:822)\n\tat com.sun.net.httpserver.Filter$Chain.doFilter(Filter.java:79)\n\tat sun.net.httpserver.ServerImpl$Exchange.run(ServerImpl.java:794)\n\tat sun.net.httpserver.ServerImpl$DefaultExecutor.execute(ServerImpl.java:199)\n\tat sun.net.httpserver.ServerImpl$Dispatcher.handle(ServerImpl.java:544)\n\tat sun.net.httpserver.ServerImpl$Dispatcher.run(ServerImpl.java:509)\n\tat java.lang.Thread.run(Thread.java:750)\n\n\n\nHail version: 0.2.130-bea04d9c79b5\nError summary: HailException: VCF does not support the type(s) for the following FORMAT field(s):\n\t'gvcf_info': 'struct{DB: bool, FS: float64, FractionInformativeReads: float64, LOD: float64, MQ: float64, MQRankSum: float64, QD: float64, R2_5P_bias: float64, ReadPosRankSum: float64, SOR: float64}'."
     ]
    }
   ],
   "source": [
    "%%time\n",
    "hl.export_vcf(dense_mt, 'vcf/dense.vcf.bgz')"
   ]
  },
  {
   "cell_type": "code",
   "execution_count": 25,
   "metadata": {},
   "outputs": [
    {
     "name": "stderr",
     "output_type": "stream",
     "text": [
      "[Stage 7:====================================================>(2585 + 1) / 2586]\r"
     ]
    },
    {
     "name": "stdout",
     "output_type": "stream",
     "text": [
      "CPU times: user 1.14 s, sys: 464 ms, total: 1.6 s\n",
      "Wall time: 12min 43s\n"
     ]
    }
   ],
   "source": [
    "%%time\n",
    "sparse_mt = hl.vds.to_merged_sparse_mt(vds, ref_allele_function=lambda locus: hl.missing('str'))\n",
    "sparse_mt.write('mt/sparse.mt')"
   ]
  },
  {
   "cell_type": "code",
   "execution_count": 22,
   "metadata": {},
   "outputs": [
    {
     "ename": "NameError",
     "evalue": "name 'sparse_mt' is not defined",
     "output_type": "error",
     "traceback": [
      "\u001b[0;31m---------------------------------------------------------------------------\u001b[0m",
      "\u001b[0;31mNameError\u001b[0m                                 Traceback (most recent call last)",
      "File \u001b[0;32m<timed eval>:1\u001b[0m\n",
      "\u001b[0;31mNameError\u001b[0m: name 'sparse_mt' is not defined"
     ]
    }
   ],
   "source": [
    "%%time\n",
    "hl.export_vcf(sparse_mt, 'vcf/sparse.vcf.bgz')"
   ]
  },
  {
   "cell_type": "code",
   "execution_count": 26,
   "metadata": {},
   "outputs": [],
   "source": [
    "hl.stop()"
   ]
  },
  {
   "cell_type": "code",
   "execution_count": null,
   "metadata": {},
   "outputs": [],
   "source": [
    "!rename 's/.gz/.bgz/' *.gvcf.gz"
   ]
  }
 ],
 "metadata": {
  "kernelspec": {
   "display_name": "hail",
   "language": "python",
   "name": "python3"
  },
  "language_info": {
   "codemirror_mode": {
    "name": "ipython",
    "version": 3
   },
   "file_extension": ".py",
   "mimetype": "text/x-python",
   "name": "python",
   "nbconvert_exporter": "python",
   "pygments_lexer": "ipython3",
   "version": "3.9.19"
  }
 },
 "nbformat": 4,
 "nbformat_minor": 2
}
