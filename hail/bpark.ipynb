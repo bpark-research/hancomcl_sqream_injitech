{
 "cells": [
  {
   "cell_type": "code",
   "execution_count": 1,
   "metadata": {},
   "outputs": [
    {
     "data": {
      "text/html": [
       "    <style>\n",
       "        .bk-notebook-logo {\n",
       "            display: block;\n",
       "            width: 20px;\n",
       "            height: 20px;\n",
       "            background-image: url(data:image/png;base64,iVBORw0KGgoAAAANSUhEUgAAABQAAAAUCAYAAACNiR0NAAAABHNCSVQICAgIfAhkiAAAAAlwSFlzAAALEgAACxIB0t1+/AAAABx0RVh0U29mdHdhcmUAQWRvYmUgRmlyZXdvcmtzIENTNui8sowAAAOkSURBVDiNjZRtaJVlGMd/1/08zzln5zjP1LWcU9N0NkN8m2CYjpgQYQXqSs0I84OLIC0hkEKoPtiH3gmKoiJDU7QpLgoLjLIQCpEsNJ1vqUOdO7ppbuec5+V+rj4ctwzd8IIbbi6u+8f1539dt3A78eXC7QizUF7gyV1fD1Yqg4JWz84yffhm0qkFqBogB9rM8tZdtwVsPUhWhGcFJngGeWrPzHm5oaMmkfEg1usvLFyc8jLRqDOMru7AyC8saQr7GG7f5fvDeH7Ej8CM66nIF+8yngt6HWaKh7k49Soy9nXurCi1o3qUbS3zWfrYeQDTB/Qj6kX6Ybhw4B+bOYoLKCC9H3Nu/leUTZ1JdRWkkn2ldcCamzrcf47KKXdAJllSlxAOkRgyHsGC/zRday5Qld9DyoM4/q/rUoy/CXh3jzOu3bHUVZeU+DEn8FInkPBFlu3+nW3Nw0mk6vCDiWg8CeJaxEwuHS3+z5RgY+YBR6V1Z1nxSOfoaPa4LASWxxdNp+VWTk7+4vzaou8v8PN+xo+KY2xsw6une2frhw05CTYOmQvsEhjhWjn0bmXPjpE1+kplmmkP3suftwTubK9Vq22qKmrBhpY4jvd5afdRA3wGjFAgcnTK2s4hY0/GPNIb0nErGMCRxWOOX64Z8RAC4oCXdklmEvcL8o0BfkNK4lUg9HTl+oPlQxdNo3Mg4Nv175e/1LDGzZen30MEjRUtmXSfiTVu1kK8W4txyV6BMKlbgk3lMwYCiusNy9fVfvvwMxv8Ynl6vxoByANLTWplvuj/nF9m2+PDtt1eiHPBr1oIfhCChQMBw6Aw0UulqTKZdfVvfG7VcfIqLG9bcldL/+pdWTLxLUy8Qq38heUIjh4XlzZxzQm19lLFlr8vdQ97rjZVOLf8nclzckbcD4wxXMidpX30sFd37Fv/GtwwhzhxGVAprjbg0gCAEeIgwCZyTV2Z1REEW8O4py0wsjeloKoMr6iCY6dP92H6Vw/oTyICIthibxjm/DfN9lVz8IqtqKYLUXfoKVMVQVVJOElGjrnnUt9T9wbgp8AyYKaGlqingHZU/uG2NTZSVqwHQTWkx9hxjkpWDaCg6Ckj5qebgBVbT3V3NNXMSiWSDdGV3hrtzla7J+duwPOToIg42ChPQOQjspnSlp1V+Gjdged7+8UN5CRAV7a5EdFNwCjEaBR27b3W890TE7g24NAP/mMDXRWrGoFPQI9ls/MWO2dWFAar/xcOIImbbpA3zgAAAABJRU5ErkJggg==);\n",
       "        }\n",
       "    </style>\n",
       "    <div>\n",
       "        <a href=\"https://bokeh.org\" target=\"_blank\" class=\"bk-notebook-logo\"></a>\n",
       "        <span id=\"bba2117d-392e-40d5-a4f0-df43d6625dff\">Loading BokehJS ...</span>\n",
       "    </div>\n"
      ]
     },
     "metadata": {},
     "output_type": "display_data"
    },
    {
     "data": {
      "application/javascript": "'use strict';\n(function(root) {\n  function now() {\n    return new Date();\n  }\n\n  const force = true;\n\n  if (typeof root._bokeh_onload_callbacks === \"undefined\" || force === true) {\n    root._bokeh_onload_callbacks = [];\n    root._bokeh_is_loading = undefined;\n  }\n\nconst JS_MIME_TYPE = 'application/javascript';\n  const HTML_MIME_TYPE = 'text/html';\n  const EXEC_MIME_TYPE = 'application/vnd.bokehjs_exec.v0+json';\n  const CLASS_NAME = 'output_bokeh rendered_html';\n\n  /**\n   * Render data to the DOM node\n   */\n  function render(props, node) {\n    const script = document.createElement(\"script\");\n    node.appendChild(script);\n  }\n\n  /**\n   * Handle when an output is cleared or removed\n   */\n  function handleClearOutput(event, handle) {\n    function drop(id) {\n      const view = Bokeh.index.get_by_id(id)\n      if (view != null) {\n        view.model.document.clear()\n        Bokeh.index.delete(view)\n      }\n    }\n\n    const cell = handle.cell;\n\n    const id = cell.output_area._bokeh_element_id;\n    const server_id = cell.output_area._bokeh_server_id;\n\n    // Clean up Bokeh references\n    if (id != null) {\n      drop(id)\n    }\n\n    if (server_id !== undefined) {\n      // Clean up Bokeh references\n      const cmd_clean = \"from bokeh.io.state import curstate; print(curstate().uuid_to_server['\" + server_id + \"'].get_sessions()[0].document.roots[0]._id)\";\n      cell.notebook.kernel.execute(cmd_clean, {\n        iopub: {\n          output: function(msg) {\n            const id = msg.content.text.trim()\n            drop(id)\n          }\n        }\n      });\n      // Destroy server and session\n      const cmd_destroy = \"import bokeh.io.notebook as ion; ion.destroy_server('\" + server_id + \"')\";\n      cell.notebook.kernel.execute(cmd_destroy);\n    }\n  }\n\n  /**\n   * Handle when a new output is added\n   */\n  function handleAddOutput(event, handle) {\n    const output_area = handle.output_area;\n    const output = handle.output;\n\n    // limit handleAddOutput to display_data with EXEC_MIME_TYPE content only\n    if ((output.output_type != \"display_data\") || (!Object.prototype.hasOwnProperty.call(output.data, EXEC_MIME_TYPE))) {\n      return\n    }\n\n    const toinsert = output_area.element.find(\".\" + CLASS_NAME.split(' ')[0]);\n\n    if (output.metadata[EXEC_MIME_TYPE][\"id\"] !== undefined) {\n      toinsert[toinsert.length - 1].firstChild.textContent = output.data[JS_MIME_TYPE];\n      // store reference to embed id on output_area\n      output_area._bokeh_element_id = output.metadata[EXEC_MIME_TYPE][\"id\"];\n    }\n    if (output.metadata[EXEC_MIME_TYPE][\"server_id\"] !== undefined) {\n      const bk_div = document.createElement(\"div\");\n      bk_div.innerHTML = output.data[HTML_MIME_TYPE];\n      const script_attrs = bk_div.children[0].attributes;\n      for (let i = 0; i < script_attrs.length; i++) {\n        toinsert[toinsert.length - 1].firstChild.setAttribute(script_attrs[i].name, script_attrs[i].value);\n        toinsert[toinsert.length - 1].firstChild.textContent = bk_div.children[0].textContent\n      }\n      // store reference to server id on output_area\n      output_area._bokeh_server_id = output.metadata[EXEC_MIME_TYPE][\"server_id\"];\n    }\n  }\n\n  function register_renderer(events, OutputArea) {\n\n    function append_mime(data, metadata, element) {\n      // create a DOM node to render to\n      const toinsert = this.create_output_subarea(\n        metadata,\n        CLASS_NAME,\n        EXEC_MIME_TYPE\n      );\n      this.keyboard_manager.register_events(toinsert);\n      // Render to node\n      const props = {data: data, metadata: metadata[EXEC_MIME_TYPE]};\n      render(props, toinsert[toinsert.length - 1]);\n      element.append(toinsert);\n      return toinsert\n    }\n\n    /* Handle when an output is cleared or removed */\n    events.on('clear_output.CodeCell', handleClearOutput);\n    events.on('delete.Cell', handleClearOutput);\n\n    /* Handle when a new output is added */\n    events.on('output_added.OutputArea', handleAddOutput);\n\n    /**\n     * Register the mime type and append_mime function with output_area\n     */\n    OutputArea.prototype.register_mime_type(EXEC_MIME_TYPE, append_mime, {\n      /* Is output safe? */\n      safe: true,\n      /* Index of renderer in `output_area.display_order` */\n      index: 0\n    });\n  }\n\n  // register the mime type if in Jupyter Notebook environment and previously unregistered\n  if (root.Jupyter !== undefined) {\n    const events = require('base/js/events');\n    const OutputArea = require('notebook/js/outputarea').OutputArea;\n\n    if (OutputArea.prototype.mime_types().indexOf(EXEC_MIME_TYPE) == -1) {\n      register_renderer(events, OutputArea);\n    }\n  }\n  if (typeof (root._bokeh_timeout) === \"undefined\" || force === true) {\n    root._bokeh_timeout = Date.now() + 5000;\n    root._bokeh_failed_load = false;\n  }\n\n  const NB_LOAD_WARNING = {'data': {'text/html':\n     \"<div style='background-color: #fdd'>\\n\"+\n     \"<p>\\n\"+\n     \"BokehJS does not appear to have successfully loaded. If loading BokehJS from CDN, this \\n\"+\n     \"may be due to a slow or bad network connection. Possible fixes:\\n\"+\n     \"</p>\\n\"+\n     \"<ul>\\n\"+\n     \"<li>re-rerun `output_notebook()` to attempt to load from CDN again, or</li>\\n\"+\n     \"<li>use INLINE resources instead, as so:</li>\\n\"+\n     \"</ul>\\n\"+\n     \"<code>\\n\"+\n     \"from bokeh.resources import INLINE\\n\"+\n     \"output_notebook(resources=INLINE)\\n\"+\n     \"</code>\\n\"+\n     \"</div>\"}};\n\n  function display_loaded(error = null) {\n    const el = document.getElementById(\"bba2117d-392e-40d5-a4f0-df43d6625dff\");\n    if (el != null) {\n      const html = (() => {\n        if (typeof root.Bokeh === \"undefined\") {\n          if (error == null) {\n            return \"BokehJS is loading ...\";\n          } else {\n            return \"BokehJS failed to load.\";\n          }\n        } else {\n          const prefix = `BokehJS ${root.Bokeh.version}`;\n          if (error == null) {\n            return `${prefix} successfully loaded.`;\n          } else {\n            return `${prefix} <b>encountered errors</b> while loading and may not function as expected.`;\n          }\n        }\n      })();\n      el.innerHTML = html;\n\n      if (error != null) {\n        const wrapper = document.createElement(\"div\");\n        wrapper.style.overflow = \"auto\";\n        wrapper.style.height = \"5em\";\n        wrapper.style.resize = \"vertical\";\n        const content = document.createElement(\"div\");\n        content.style.fontFamily = \"monospace\";\n        content.style.whiteSpace = \"pre-wrap\";\n        content.style.backgroundColor = \"rgb(255, 221, 221)\";\n        content.textContent = error.stack ?? error.toString();\n        wrapper.append(content);\n        el.append(wrapper);\n      }\n    } else if (Date.now() < root._bokeh_timeout) {\n      setTimeout(() => display_loaded(error), 100);\n    }\n  }\n\n  function run_callbacks() {\n    try {\n      root._bokeh_onload_callbacks.forEach(function(callback) {\n        if (callback != null)\n          callback();\n      });\n    } finally {\n      delete root._bokeh_onload_callbacks\n    }\n    console.debug(\"Bokeh: all callbacks have finished\");\n  }\n\n  function load_libs(css_urls, js_urls, callback) {\n    if (css_urls == null) css_urls = [];\n    if (js_urls == null) js_urls = [];\n\n    root._bokeh_onload_callbacks.push(callback);\n    if (root._bokeh_is_loading > 0) {\n      console.debug(\"Bokeh: BokehJS is being loaded, scheduling callback at\", now());\n      return null;\n    }\n    if (js_urls == null || js_urls.length === 0) {\n      run_callbacks();\n      return null;\n    }\n    console.debug(\"Bokeh: BokehJS not loaded, scheduling load and callback at\", now());\n    root._bokeh_is_loading = css_urls.length + js_urls.length;\n\n    function on_load() {\n      root._bokeh_is_loading--;\n      if (root._bokeh_is_loading === 0) {\n        console.debug(\"Bokeh: all BokehJS libraries/stylesheets loaded\");\n        run_callbacks()\n      }\n    }\n\n    function on_error(url) {\n      console.error(\"failed to load \" + url);\n    }\n\n    for (let i = 0; i < css_urls.length; i++) {\n      const url = css_urls[i];\n      const element = document.createElement(\"link\");\n      element.onload = on_load;\n      element.onerror = on_error.bind(null, url);\n      element.rel = \"stylesheet\";\n      element.type = \"text/css\";\n      element.href = url;\n      console.debug(\"Bokeh: injecting link tag for BokehJS stylesheet: \", url);\n      document.body.appendChild(element);\n    }\n\n    for (let i = 0; i < js_urls.length; i++) {\n      const url = js_urls[i];\n      const element = document.createElement('script');\n      element.onload = on_load;\n      element.onerror = on_error.bind(null, url);\n      element.async = false;\n      element.src = url;\n      console.debug(\"Bokeh: injecting script tag for BokehJS library: \", url);\n      document.head.appendChild(element);\n    }\n  };\n\n  function inject_raw_css(css) {\n    const element = document.createElement(\"style\");\n    element.appendChild(document.createTextNode(css));\n    document.body.appendChild(element);\n  }\n\n  const js_urls = [\"https://cdn.bokeh.org/bokeh/release/bokeh-3.4.1.min.js\", \"https://cdn.bokeh.org/bokeh/release/bokeh-gl-3.4.1.min.js\", \"https://cdn.bokeh.org/bokeh/release/bokeh-widgets-3.4.1.min.js\", \"https://cdn.bokeh.org/bokeh/release/bokeh-tables-3.4.1.min.js\", \"https://cdn.bokeh.org/bokeh/release/bokeh-mathjax-3.4.1.min.js\"];\n  const css_urls = [];\n\n  const inline_js = [    function(Bokeh) {\n      Bokeh.set_log_level(\"info\");\n    },\nfunction(Bokeh) {\n    }\n  ];\n\n  function run_inline_js() {\n    if (root.Bokeh !== undefined || force === true) {\n      try {\n            for (let i = 0; i < inline_js.length; i++) {\n      inline_js[i].call(root, root.Bokeh);\n    }\n\n      } catch (error) {display_loaded(error);throw error;\n      }if (force === true) {\n        display_loaded();\n      }} else if (Date.now() < root._bokeh_timeout) {\n      setTimeout(run_inline_js, 100);\n    } else if (!root._bokeh_failed_load) {\n      console.log(\"Bokeh: BokehJS failed to load within specified timeout.\");\n      root._bokeh_failed_load = true;\n    } else if (force !== true) {\n      const cell = $(document.getElementById(\"bba2117d-392e-40d5-a4f0-df43d6625dff\")).parents('.cell').data().cell;\n      cell.output_area.append_execute_result(NB_LOAD_WARNING)\n    }\n  }\n\n  if (root._bokeh_is_loading === 0) {\n    console.debug(\"Bokeh: BokehJS loaded, going straight to plotting\");\n    run_inline_js();\n  } else {\n    load_libs(css_urls, js_urls, function() {\n      console.debug(\"Bokeh: BokehJS plotting callback run at\", now());\n      run_inline_js();\n    });\n  }\n}(window));",
      "application/vnd.bokehjs_load.v0+json": ""
     },
     "metadata": {},
     "output_type": "display_data"
    }
   ],
   "source": [
    "import hail as hl\n",
    "from tqdm import tqdm\n",
    "import math\n",
    "import time\n",
    "import datetime"
   ]
  },
  {
   "cell_type": "code",
   "execution_count": 2,
   "metadata": {},
   "outputs": [
    {
     "name": "stdout",
     "output_type": "stream",
     "text": [
      "Hail Team. Hail 0.2.130-bea04d9c79b5. https://github.com/hail-is/hail/releases/tag/0.2.130.\n"
     ]
    }
   ],
   "source": [
    "print(hl.citation())"
   ]
  },
  {
   "cell_type": "code",
   "execution_count": 3,
   "metadata": {},
   "outputs": [
    {
     "name": "stderr",
     "output_type": "stream",
     "text": [
      "/home/bpark/miniconda3/envs/hail/lib/python3.9/site-packages/hail/context.py:352: UserWarning:\n",
      "\n",
      "Using hl.init with a default_reference argument is deprecated. To set a default reference genome after initializing hail, call `hl.default_reference` with an argument to set the default reference genome.\n",
      "\n"
     ]
    },
    {
     "name": "stdout",
     "output_type": "stream",
     "text": [
      "24/05/09 15:14:10 WARN Utils: Your hostname, localhost.localdomain resolves to a loopback address: 127.0.0.1; using 192.168.0.130 instead (on interface ens15f0)\n",
      "24/05/09 15:14:10 WARN Utils: Set SPARK_LOCAL_IP if you need to bind to another address\n",
      "24/05/09 15:14:10 WARN NativeCodeLoader: Unable to load native-hadoop library for your platform... using builtin-java classes where applicable\n"
     ]
    },
    {
     "name": "stderr",
     "output_type": "stream",
     "text": [
      "Setting default log level to \"WARN\".\n",
      "To adjust logging level use sc.setLogLevel(newLevel). For SparkR, use setLogLevel(newLevel).\n",
      "Running on Apache Spark version 3.3.4\n",
      "SparkUI available at http://192.168.0.130:4040\n",
      "Welcome to\n",
      "     __  __     <>__\n",
      "    / /_/ /__  __/ /\n",
      "   / __  / _ `/ / /\n",
      "  /_/ /_/\\_,_/_/_/   version 0.2.130-bea04d9c79b5\n",
      "LOGGING: writing to /home/bpark/projects/hail-20240509-1514-0.2.130-bea04d9c79b5.log\n"
     ]
    }
   ],
   "source": [
    "config = {\n",
    "    'spark.driver.memory' : '400g'\n",
    "}\n",
    "hl.init(\n",
    "    spark_conf = config,\n",
    "    default_reference = 'GRCh38'\n",
    "    )"
   ]
  },
  {
   "cell_type": "code",
   "execution_count": 18,
   "metadata": {},
   "outputs": [],
   "source": [
    "import os\n",
    "import pandas as pd\n",
    "\n",
    "path = './1kg_/'\n",
    "fileEx = r'.gvcf.bgz'\n",
    "gvcfs = [path + vcf for vcf in os.listdir(path) if vcf.endswith(fileEx)]"
   ]
  },
  {
   "cell_type": "code",
   "execution_count": 19,
   "metadata": {},
   "outputs": [
    {
     "data": {
      "text/plain": [
       "100"
      ]
     },
     "execution_count": 19,
     "metadata": {},
     "output_type": "execute_result"
    }
   ],
   "source": [
    "len(gvcfs)"
   ]
  },
  {
   "cell_type": "code",
   "execution_count": 20,
   "metadata": {},
   "outputs": [
    {
     "data": {
      "text/plain": [
       "'./1kg_/HG03480.hard-filtered.gvcf.bgz'"
      ]
     },
     "execution_count": 20,
     "metadata": {},
     "output_type": "execute_result"
    }
   ],
   "source": [
    "gvcfs[0]"
   ]
  },
  {
   "cell_type": "code",
   "execution_count": 40,
   "metadata": {},
   "outputs": [
    {
     "data": {
      "text/plain": [
       "['./1kg_/HG03480.hard-filtered.gvcf.bgz',\n",
       " './1kg_/NA18489.hard-filtered.gvcf.bgz',\n",
       " './1kg_/HG01884.hard-filtered.gvcf.bgz',\n",
       " './1kg_/NA19031.hard-filtered.gvcf.bgz',\n",
       " './1kg_/NA19835.hard-filtered.gvcf.bgz',\n",
       " './1kg_/HG03279.hard-filtered.gvcf.bgz',\n",
       " './1kg_/NA19099.hard-filtered.gvcf.bgz',\n",
       " './1kg_/NA18505.hard-filtered.gvcf.bgz',\n",
       " './1kg_/HG03428.hard-filtered.gvcf.bgz',\n",
       " './1kg_/NA19037.hard-filtered.gvcf.bgz',\n",
       " './1kg_/NA19017.hard-filtered.gvcf.bgz',\n",
       " './1kg_/HG03578.hard-filtered.gvcf.bgz',\n",
       " './1kg_/NA18511.hard-filtered.gvcf.bgz',\n",
       " './1kg_/HG03073.hard-filtered.gvcf.bgz',\n",
       " './1kg_/HG03054.hard-filtered.gvcf.bgz',\n",
       " './1kg_/HG03453.hard-filtered.gvcf.bgz',\n",
       " './1kg_/HG02511.hard-filtered.gvcf.bgz',\n",
       " './1kg_/HG02952.hard-filtered.gvcf.bgz',\n",
       " './1kg_/HG03470.hard-filtered.gvcf.bgz',\n",
       " './1kg_/HG03479.hard-filtered.gvcf.bgz',\n",
       " './1kg_/HG03082.hard-filtered.gvcf.bgz',\n",
       " './1kg_/HG02978.hard-filtered.gvcf.bgz',\n",
       " './1kg_/HG02757.hard-filtered.gvcf.bgz',\n",
       " './1kg_/HG03369.hard-filtered.gvcf.bgz',\n",
       " './1kg_/HG02624.hard-filtered.gvcf.bgz',\n",
       " './1kg_/HG02814.hard-filtered.gvcf.bgz',\n",
       " './1kg_/NA19238.hard-filtered.gvcf.bgz',\n",
       " './1kg_/NA20127.hard-filtered.gvcf.bgz',\n",
       " './1kg_/NA19374.hard-filtered.gvcf.bgz',\n",
       " './1kg_/HG03380.hard-filtered.gvcf.bgz',\n",
       " './1kg_/NA19257.hard-filtered.gvcf.bgz',\n",
       " './1kg_/NA19036.hard-filtered.gvcf.bgz',\n",
       " './1kg_/NA19159.hard-filtered.gvcf.bgz',\n",
       " './1kg_/HG03458.hard-filtered.gvcf.bgz',\n",
       " './1kg_/HG03270.hard-filtered.gvcf.bgz',\n",
       " './1kg_/NA18518.hard-filtered.gvcf.bgz',\n",
       " './1kg_/HG03372.hard-filtered.gvcf.bgz',\n",
       " './1kg_/HG03452.hard-filtered.gvcf.bgz',\n",
       " './1kg_/HG03126.hard-filtered.gvcf.bgz',\n",
       " './1kg_/HG02855.hard-filtered.gvcf.bgz',\n",
       " './1kg_/HG03366.hard-filtered.gvcf.bgz',\n",
       " './1kg_/HG03117.hard-filtered.gvcf.bgz',\n",
       " './1kg_/HG03419.hard-filtered.gvcf.bgz',\n",
       " './1kg_/HG03499.hard-filtered.gvcf.bgz',\n",
       " './1kg_/HG03567.hard-filtered.gvcf.bgz',\n",
       " './1kg_/HG03517.hard-filtered.gvcf.bgz',\n",
       " './1kg_/HG02583.hard-filtered.gvcf.bgz',\n",
       " './1kg_/HG02589.hard-filtered.gvcf.bgz',\n",
       " './1kg_/HG03557.hard-filtered.gvcf.bgz',\n",
       " './1kg_/NA19209.hard-filtered.gvcf.bgz',\n",
       " './1kg_/HG03061.hard-filtered.gvcf.bgz',\n",
       " './1kg_/NA18881.hard-filtered.gvcf.bgz',\n",
       " './1kg_/HG03069.hard-filtered.gvcf.bgz',\n",
       " './1kg_/NA19328.hard-filtered.gvcf.bgz',\n",
       " './1kg_/HG03438.hard-filtered.gvcf.bgz',\n",
       " './1kg_/NA19042.hard-filtered.gvcf.bgz',\n",
       " './1kg_/HG03108.hard-filtered.gvcf.bgz',\n",
       " './1kg_/HG03267.hard-filtered.gvcf.bgz',\n",
       " './1kg_/NA18508.hard-filtered.gvcf.bgz',\n",
       " './1kg_/NA19327.hard-filtered.gvcf.bgz',\n",
       " './1kg_/HG03558.hard-filtered.gvcf.bgz',\n",
       " './1kg_/HG02704.hard-filtered.gvcf.bgz',\n",
       " './1kg_/HG03572.hard-filtered.gvcf.bgz',\n",
       " './1kg_/HG02012.hard-filtered.gvcf.bgz',\n",
       " './1kg_/HG03548.hard-filtered.gvcf.bgz',\n",
       " './1kg_/HG03058.hard-filtered.gvcf.bgz',\n",
       " './1kg_/NA19118.hard-filtered.gvcf.bgz',\n",
       " './1kg_/HG02806.hard-filtered.gvcf.bgz',\n",
       " './1kg_/NA19190.hard-filtered.gvcf.bgz',\n",
       " './1kg_/HG03455.hard-filtered.gvcf.bgz',\n",
       " './1kg_/HG03575.hard-filtered.gvcf.bgz',\n",
       " './1kg_/HG03091.hard-filtered.gvcf.bgz',\n",
       " './1kg_/NA19214.hard-filtered.gvcf.bgz',\n",
       " './1kg_/HG03583.hard-filtered.gvcf.bgz',\n",
       " './1kg_/HG03584.hard-filtered.gvcf.bgz',\n",
       " './1kg_/HG03464.hard-filtered.gvcf.bgz',\n",
       " './1kg_/NA19314.hard-filtered.gvcf.bgz',\n",
       " './1kg_/HG03486.hard-filtered.gvcf.bgz',\n",
       " './1kg_/NA19185.hard-filtered.gvcf.bgz',\n",
       " './1kg_/HG03097.hard-filtered.gvcf.bgz',\n",
       " './1kg_/HG03159.hard-filtered.gvcf.bgz',\n",
       " './1kg_/NA20287.hard-filtered.gvcf.bgz',\n",
       " './1kg_/NA19308.hard-filtered.gvcf.bgz',\n",
       " './1kg_/NA19316.hard-filtered.gvcf.bgz',\n",
       " './1kg_/HG01894.hard-filtered.gvcf.bgz',\n",
       " './1kg_/HG02562.hard-filtered.gvcf.bgz',\n",
       " './1kg_/HG02880.hard-filtered.gvcf.bgz',\n",
       " './1kg_/HG02885.hard-filtered.gvcf.bgz',\n",
       " './1kg_/HG03052.hard-filtered.gvcf.bgz',\n",
       " './1kg_/HG03055.hard-filtered.gvcf.bgz',\n",
       " './1kg_/HG03064.hard-filtered.gvcf.bgz',\n",
       " './1kg_/HG03072.hard-filtered.gvcf.bgz',\n",
       " './1kg_/HG03085.hard-filtered.gvcf.bgz',\n",
       " './1kg_/HG03086.hard-filtered.gvcf.bgz',\n",
       " './1kg_/HG03351.hard-filtered.gvcf.bgz',\n",
       " './1kg_/HG03449.hard-filtered.gvcf.bgz',\n",
       " './1kg_/HG03457.hard-filtered.gvcf.bgz',\n",
       " './1kg_/HG03485.hard-filtered.gvcf.bgz',\n",
       " './1kg_/HG03563.hard-filtered.gvcf.bgz',\n",
       " './1kg_/NA19131.hard-filtered.gvcf.bgz']"
      ]
     },
     "execution_count": 40,
     "metadata": {},
     "output_type": "execute_result"
    }
   ],
   "source": [
    "gvcfs"
   ]
  },
  {
   "cell_type": "code",
   "execution_count": 23,
   "metadata": {},
   "outputs": [],
   "source": [
    "fs = []\n",
    "for i in range(100):\n",
    "    file_size = os.path.getsize(gvcfs[i])\n",
    "    fs.append(file_size)\n",
    "    "
   ]
  },
  {
   "cell_type": "code",
   "execution_count": 26,
   "metadata": {},
   "outputs": [
    {
     "data": {
      "text/plain": [
       "[10, 20, 30, 40, 50, 60, 70, 80, 90, 100]"
      ]
     },
     "execution_count": 26,
     "metadata": {},
     "output_type": "execute_result"
    }
   ],
   "source": [
    "x"
   ]
  },
  {
   "cell_type": "code",
   "execution_count": 30,
   "metadata": {},
   "outputs": [],
   "source": [
    "def convert_size(size_bytes):\n",
    "    import math\n",
    "    if size_bytes == 0:\n",
    "        return \"0B\"\n",
    "    size_name = (\"B\", \"KB\", \"MB\", \"GB\", \"TB\", \"PB\", \"EB\", \"ZB\", \"YB\")\n",
    "    i = int(math.floor(math.log(size_bytes, 1024)))\n",
    "    p = math.pow(1024, i)\n",
    "    s = round(size_bytes / p, 2)\n",
    "    return \"%s %s\" % (s, size_name[i])"
   ]
  },
  {
   "cell_type": "code",
   "execution_count": 31,
   "metadata": {},
   "outputs": [
    {
     "name": "stdout",
     "output_type": "stream",
     "text": [
      "30.19 GB\n",
      "66.35 GB\n",
      "95.45 GB\n",
      "126.06 GB\n",
      "157.51 GB\n",
      "186.64 GB\n",
      "222.36 GB\n",
      "259.78 GB\n",
      "291.31 GB\n",
      "327.8 GB\n"
     ]
    }
   ],
   "source": [
    "for r in x:\n",
    "    print(convert_size(sum(fs[0:r])))"
   ]
  },
  {
   "cell_type": "code",
   "execution_count": 37,
   "metadata": {},
   "outputs": [],
   "source": [
    "size = []\n",
    "for r in x:\n",
    "    size.append(convert_size(sum(fs[0:r])).split('.')[0])"
   ]
  },
  {
   "cell_type": "code",
   "execution_count": 38,
   "metadata": {},
   "outputs": [],
   "source": [
    "df = pd.DataFrame({\"samples\":x, \"size\":size})"
   ]
  },
  {
   "cell_type": "code",
   "execution_count": 39,
   "metadata": {},
   "outputs": [
    {
     "data": {
      "text/plain": [
       "(<Axes: xlabel='samples', ylabel='size'>,)"
      ]
     },
     "execution_count": 39,
     "metadata": {},
     "output_type": "execute_result"
    },
    {
     "data": {
      "image/png": "[encoded data removed]",
      "text/plain": [
       "<Figure size 640x480 with 1 Axes>"
      ]
     },
     "metadata": {},
     "output_type": "display_data"
    }
   ],
   "source": [
    "sns.lineplot(data=df, x=\"samples\", y=\"size\"), "
   ]
  },
  {
   "cell_type": "code",
   "execution_count": 7,
   "metadata": {},
   "outputs": [
    {
     "name": "stderr",
     "output_type": "stream",
     "text": [
      "  0%|          | 0/10 [00:00<?, ?it/s]"
     ]
    },
    {
     "name": "stderr",
     "output_type": "stream",
     "text": [
      "2024-05-09 15:14:38.388 Hail: WARN: expected input file 'file:/home/bpark/projects/1kg_/HG03480.hard-filtered.gvcf.bgz' to end in .vcf[.bgz, .gz]\n",
      "2024-05-09 15:14:38.732 Hail: WARN: expected input file 'file:/home/bpark/projects/1kg_/HG03480.hard-filtered.gvcf.bgz' to end in .vcf[.bgz, .gz]\n",
      "2024-05-09 15:14:39.733 Hail: INFO: scanning VCF for sortedness...\n",
      "2024-05-09 15:16:26.142 Hail: INFO: Coerced sorted VCF - no additional import work to do\n",
      "2024-05-09 15:16:28.119 Hail: WARN: generated combiner save path of tmp/combiner-plans/vds-combiner-plan_f4907a283a903bcd92d0e75c720b530b0f56536fccf9fc870eee0c477bd7aedf_0.2.130.json\n",
      "2024-05-09 15:16:28.122 Hail: INFO: Running VDS combiner:\n",
      "    VDS arguments: 0 datasets with 0 samples\n",
      "    GVCF arguments: 10 inputs/samples\n",
      "    Branch factor: 100\n",
      "    GVCF merge batch size: 50\n",
      "2024-05-09 15:16:28.219 Hail: INFO: GVCF combine (job 1): merging 10 GVCFs into 1 datasets\n",
      "2024-05-09 15:21:59.799 Hail: INFO: wrote matrix table with 838300184 rows and 10 columns in 2586 partitions to vds/test0.vds/reference_data\n",
      "2024-05-09 15:26:11.524 Hail: INFO: wrote matrix table with 17205371 rows and 10 columns in 2586 partitions to vds/test0.vds/variant_data\n",
      "2024-05-09 15:26:11.564 Hail: INFO: VDS combiner: computing reference block max length...\n",
      "2024-05-09 15:26:25.326 Hail: INFO: Finished VDS combiner!\n",
      "2024-05-09 15:26:25.437 Hail: WARN: expected input file 'file:/home/bpark/projects/1kg_/HG03480.hard-filtered.gvcf.bgz' to end in .vcf[.bgz, .gz]\n",
      "2024-05-09 15:26:25.480 Hail: WARN: expected input file 'file:/home/bpark/projects/1kg_/HG03480.hard-filtered.gvcf.bgz' to end in .vcf[.bgz, .gz]\n",
      "2024-05-09 15:26:26.514 Hail: WARN: generated combiner save path of tmp/combiner-plans/vds-combiner-plan_a3387c1c56a97a3b09d2356060dc2bd510c9e144d0c237712db8edbe9f984662_0.2.130.json\n",
      "2024-05-09 15:26:26.518 Hail: INFO: Running VDS combiner:\n",
      "    VDS arguments: 0 datasets with 0 samples\n",
      "    GVCF arguments: 20 inputs/samples\n",
      "    Branch factor: 100\n",
      "    GVCF merge batch size: 50\n",
      "2024-05-09 15:26:26.574 Hail: INFO: GVCF combine (job 1): merging 20 GVCFs into 1 datasets\n",
      "2024-05-09 15:38:30.349 Hail: INFO: wrote matrix table with 1468360813 rows and 20 columns in 2586 partitions to vds/test1.vds/reference_data\n",
      "2024-05-09 15:47:32.905 Hail: INFO: wrote matrix table with 21772172 rows and 20 columns in 2586 partitions to vds/test1.vds/variant_data\n",
      "2024-05-09 15:47:32.943 Hail: INFO: VDS combiner: computing reference block max length...\n",
      "2024-05-09 15:48:00.958 Hail: INFO: Finished VDS combiner!\n",
      "2024-05-09 15:48:01.210 Hail: WARN: expected input file 'file:/home/bpark/projects/1kg_/HG03480.hard-filtered.gvcf.bgz' to end in .vcf[.bgz, .gz]\n",
      "2024-05-09 15:48:01.252 Hail: WARN: expected input file 'file:/home/bpark/projects/1kg_/HG03480.hard-filtered.gvcf.bgz' to end in .vcf[.bgz, .gz]\n",
      "2024-05-09 15:48:02.235 Hail: WARN: generated combiner save path of tmp/combiner-plans/vds-combiner-plan_0328a321557d3082de11e1364fdb33755162bdc323733cbfdf2327dd5e9b6e7b_0.2.130.json\n",
      "2024-05-09 15:48:02.238 Hail: INFO: Running VDS combiner:\n",
      "    VDS arguments: 0 datasets with 0 samples\n",
      "    GVCF arguments: 30 inputs/samples\n",
      "    Branch factor: 100\n",
      "    GVCF merge batch size: 50\n",
      "2024-05-09 15:48:02.297 Hail: INFO: GVCF combine (job 1): merging 30 GVCFs into 1 datasets\n",
      "2024-05-09 16:05:26.716 Hail: INFO: wrote matrix table with 1729962353 rows and 30 columns in 2586 partitions to vds/test2.vds/reference_data\n",
      "2024-05-09 16:18:28.005 Hail: INFO: wrote matrix table with 24907653 rows and 30 columns in 2586 partitions to vds/test2.vds/variant_data\n",
      "2024-05-09 16:18:28.045 Hail: INFO: VDS combiner: computing reference block max length...\n",
      "2024-05-09 16:19:08.360 Hail: INFO: Finished VDS combiner!\n",
      "2024-05-09 16:19:08.470 Hail: WARN: expected input file 'file:/home/bpark/projects/1kg_/HG03480.hard-filtered.gvcf.bgz' to end in .vcf[.bgz, .gz]\n",
      "2024-05-09 16:19:08.514 Hail: WARN: expected input file 'file:/home/bpark/projects/1kg_/HG03480.hard-filtered.gvcf.bgz' to end in .vcf[.bgz, .gz]\n",
      "2024-05-09 16:19:09.492 Hail: WARN: generated combiner save path of tmp/combiner-plans/vds-combiner-plan_3d1f114c8aca5f097a155dd741901aebf21237b26055c0891131e7dc4767b4a6_0.2.130.json\n",
      "2024-05-09 16:19:09.495 Hail: INFO: Running VDS combiner:\n",
      "    VDS arguments: 0 datasets with 0 samples\n",
      "    GVCF arguments: 40 inputs/samples\n",
      "    Branch factor: 100\n",
      "    GVCF merge batch size: 50\n",
      "2024-05-09 16:19:09.550 Hail: INFO: GVCF combine (job 1): merging 40 GVCFs into 1 datasets\n",
      "2024-05-09 16:42:17.686 Hail: INFO: wrote matrix table with 1958193535 rows and 40 columns in 2586 partitions to vds/test3.vds/reference_data\n",
      "2024-05-09 16:59:30.220 Hail: INFO: wrote matrix table with 27178452 rows and 40 columns in 2586 partitions to vds/test3.vds/variant_data\n",
      "2024-05-09 16:59:30.258 Hail: INFO: VDS combiner: computing reference block max length...\n",
      "2024-05-09 17:00:20.916 Hail: INFO: Finished VDS combiner!\n",
      "2024-05-09 17:00:21.028 Hail: WARN: expected input file 'file:/home/bpark/projects/1kg_/HG03480.hard-filtered.gvcf.bgz' to end in .vcf[.bgz, .gz]\n",
      "2024-05-09 17:00:21.071 Hail: WARN: expected input file 'file:/home/bpark/projects/1kg_/HG03480.hard-filtered.gvcf.bgz' to end in .vcf[.bgz, .gz]\n",
      "2024-05-09 17:00:22.038 Hail: WARN: generated combiner save path of tmp/combiner-plans/vds-combiner-plan_8192f9de1f0eebfcdb516948ae4f3b772b75d40b5b75e7279c5701e26d19a810_0.2.130.json\n",
      "2024-05-09 17:00:22.040 Hail: INFO: Running VDS combiner:\n",
      "    VDS arguments: 0 datasets with 0 samples\n",
      "    GVCF arguments: 50 inputs/samples\n",
      "    Branch factor: 100\n",
      "    GVCF merge batch size: 50\n",
      "2024-05-09 17:00:22.094 Hail: INFO: GVCF combine (job 1): merging 50 GVCFs into 1 datasets\n",
      "2024-05-09 17:29:31.536 Hail: INFO: wrote matrix table with 2131194889 rows and 50 columns in 2586 partitions to vds/test4.vds/reference_data\n",
      "2024-05-09 17:51:01.412 Hail: INFO: wrote matrix table with 29129946 rows and 50 columns in 2586 partitions to vds/test4.vds/variant_data\n",
      "2024-05-09 17:51:01.447 Hail: INFO: VDS combiner: computing reference block max length...\n",
      "2024-05-09 17:52:04.686 Hail: INFO: Finished VDS combiner!\n",
      "2024-05-09 17:52:04.797 Hail: WARN: expected input file 'file:/home/bpark/projects/1kg_/HG03480.hard-filtered.gvcf.bgz' to end in .vcf[.bgz, .gz]\n",
      "2024-05-09 17:52:04.978 Hail: WARN: expected input file 'file:/home/bpark/projects/1kg_/HG03480.hard-filtered.gvcf.bgz' to end in .vcf[.bgz, .gz]\n",
      "2024-05-09 17:52:05.923 Hail: WARN: generated combiner save path of tmp/combiner-plans/vds-combiner-plan_3c387f5900f0d56f24bf8d11b7f691caf4bc2d0c0e11d97ad3b5b1b875cd9d20_0.2.130.json\n",
      "2024-05-09 17:52:05.926 Hail: INFO: Running VDS combiner:\n",
      "    VDS arguments: 0 datasets with 0 samples\n",
      "    GVCF arguments: 60 inputs/samples\n",
      "    Branch factor: 100\n",
      "    GVCF merge batch size: 50\n",
      "2024-05-09 17:52:05.980 Hail: INFO: GVCF combine (job 1): merging 60 GVCFs into 1 datasets\n",
      "2024-05-09 18:26:53.714 Hail: INFO: wrote matrix table with 2243073439 rows and 60 columns in 2586 partitions to vds/test5.vds/reference_data\n",
      "2024-05-09 18:52:29.180 Hail: INFO: wrote matrix table with 30957283 rows and 60 columns in 2586 partitions to vds/test5.vds/variant_data\n",
      "2024-05-09 18:52:29.217 Hail: INFO: VDS combiner: computing reference block max length...\n",
      "2024-05-09 18:54:14.341 Hail: INFO: Finished VDS combiner!\n",
      "2024-05-09 18:54:14.455 Hail: WARN: expected input file 'file:/home/bpark/projects/1kg_/HG03480.hard-filtered.gvcf.bgz' to end in .vcf[.bgz, .gz]\n",
      "2024-05-09 18:54:14.496 Hail: WARN: expected input file 'file:/home/bpark/projects/1kg_/HG03480.hard-filtered.gvcf.bgz' to end in .vcf[.bgz, .gz]\n",
      "2024-05-09 18:54:15.438 Hail: WARN: generated combiner save path of tmp/combiner-plans/vds-combiner-plan_2efe8296c5c94930a96a8810949e2640551381cacdb007b568842a55a97ae138_0.2.130.json\n",
      "2024-05-09 18:54:15.441 Hail: INFO: Running VDS combiner:\n",
      "    VDS arguments: 0 datasets with 0 samples\n",
      "    GVCF arguments: 70 inputs/samples\n",
      "    Branch factor: 100\n",
      "    GVCF merge batch size: 50\n",
      "2024-05-09 18:54:15.494 Hail: INFO: GVCF combine (job 1): merging 70 GVCFs into 1 datasets\n",
      "2024-05-09 19:36:10.004 Hail: INFO: wrote matrix table with 2397821168 rows and 70 columns in 2586 partitions to vds/test6.vds/reference_data\n",
      "2024-05-09 20:06:37.950 Hail: INFO: wrote matrix table with 32572741 rows and 70 columns in 2586 partitions to vds/test6.vds/variant_data\n",
      "2024-05-09 20:06:37.988 Hail: INFO: VDS combiner: computing reference block max length...\n",
      "2024-05-09 20:08:23.911 Hail: INFO: Finished VDS combiner!\n",
      "2024-05-09 20:08:24.022 Hail: WARN: expected input file 'file:/home/bpark/projects/1kg_/HG03480.hard-filtered.gvcf.bgz' to end in .vcf[.bgz, .gz]\n",
      "2024-05-09 20:08:24.064 Hail: WARN: expected input file 'file:/home/bpark/projects/1kg_/HG03480.hard-filtered.gvcf.bgz' to end in .vcf[.bgz, .gz]\n",
      "2024-05-09 20:08:25.023 Hail: WARN: generated combiner save path of tmp/combiner-plans/vds-combiner-plan_dac7212c7ec5cb84c703c327e48e4b965b249bdf1d429881b068e1fdd6b2e689_0.2.130.json\n",
      "2024-05-09 20:08:25.026 Hail: INFO: Running VDS combiner:\n",
      "    VDS arguments: 0 datasets with 0 samples\n",
      "    GVCF arguments: 80 inputs/samples\n",
      "    Branch factor: 100\n",
      "    GVCF merge batch size: 50\n",
      "2024-05-09 20:08:25.088 Hail: INFO: GVCF combine (job 1): merging 80 GVCFs into 1 datasets\n",
      "2024-05-09 20:57:43.466 Hail: INFO: wrote matrix table with 2515031060 rows and 80 columns in 2586 partitions to vds/test7.vds/reference_data\n",
      "2024-05-09 21:33:20.535 Hail: INFO: wrote matrix table with 33971438 rows and 80 columns in 2586 partitions to vds/test7.vds/variant_data\n",
      "2024-05-09 21:33:20.575 Hail: INFO: VDS combiner: computing reference block max length...\n",
      "2024-05-09 21:36:29.194 Hail: INFO: Finished VDS combiner!\n",
      "2024-05-09 21:36:29.501 Hail: WARN: expected input file 'file:/home/bpark/projects/1kg_/HG03480.hard-filtered.gvcf.bgz' to end in .vcf[.bgz, .gz]\n",
      "2024-05-09 21:36:29.544 Hail: WARN: expected input file 'file:/home/bpark/projects/1kg_/HG03480.hard-filtered.gvcf.bgz' to end in .vcf[.bgz, .gz]\n",
      "2024-05-09 21:36:30.514 Hail: WARN: generated combiner save path of tmp/combiner-plans/vds-combiner-plan_241764c00145194946bbaaed2fc54e940c1f608f39b7dda5cd0a8bb36b1c8af5_0.2.130.json\n",
      "2024-05-09 21:36:30.518 Hail: INFO: Running VDS combiner:\n",
      "    VDS arguments: 0 datasets with 0 samples\n",
      "    GVCF arguments: 90 inputs/samples\n",
      "    Branch factor: 100\n",
      "    GVCF merge batch size: 50\n",
      "2024-05-09 21:36:30.575 Hail: INFO: GVCF combine (job 1): merging 90 GVCFs into 1 datasets\n",
      "2024-05-09 22:31:59.429 Hail: INFO: wrote matrix table with 2572332593 rows and 90 columns in 2586 partitions to vds/test8.vds/reference_data\n",
      "2024-05-09 23:11:54.587 Hail: INFO: wrote matrix table with 35418560 rows and 90 columns in 2586 partitions to vds/test8.vds/variant_data\n",
      "2024-05-09 23:11:54.625 Hail: INFO: VDS combiner: computing reference block max length...\n",
      "2024-05-09 23:15:27.575 Hail: INFO: Finished VDS combiner!\n",
      "2024-05-09 23:15:27.687 Hail: WARN: expected input file 'file:/home/bpark/projects/1kg_/HG03480.hard-filtered.gvcf.bgz' to end in .vcf[.bgz, .gz]\n",
      "2024-05-09 23:15:27.728 Hail: WARN: expected input file 'file:/home/bpark/projects/1kg_/HG03480.hard-filtered.gvcf.bgz' to end in .vcf[.bgz, .gz]\n",
      "2024-05-09 23:15:28.720 Hail: WARN: generated combiner save path of tmp/combiner-plans/vds-combiner-plan_af2ed4be14828a222d715ded03ff73ffe50d25ecc72da98f1706153484eeed00_0.2.130.json\n",
      "2024-05-09 23:15:28.723 Hail: INFO: Running VDS combiner:\n",
      "    VDS arguments: 0 datasets with 0 samples\n",
      "    GVCF arguments: 100 inputs/samples\n",
      "    Branch factor: 100\n",
      "    GVCF merge batch size: 50\n",
      "2024-05-09 23:15:28.780 Hail: INFO: GVCF combine (job 1): merging 100 GVCFs into 1 datasets\n",
      "2024-05-10 00:18:35.524 Hail: INFO: wrote matrix table with 2634328055 rows and 100 columns in 2586 partitions to vds/test9.vds/reference_data\n",
      "2024-05-10 01:03:48.917 Hail: INFO: wrote matrix table with 36564641 rows and 100 columns in 2586 partitions to vds/test9.vds/variant_data\n",
      "2024-05-10 01:03:48.969 Hail: INFO: VDS combiner: computing reference block max length...\n",
      "2024-05-10 01:07:50.374 Hail: INFO: Finished VDS combiner!\n"
     ]
    },
    {
     "name": "stderr",
     "output_type": "stream",
     "text": [
      " 10%|█         | 1/10 [11:47<1:46:05, 707.31s/it]===========>(2539 + 32) / 2586]"
     ]
    },
    {
     "name": "stdout",
     "output_type": "stream",
     "text": [
      "707.310346364975 0:11:47.310346\n"
     ]
    },
    {
     "name": "stderr",
     "output_type": "stream",
     "text": [
      " 20%|██        | 2/10 [33:22<2:20:27, 1053.38s/it]=========> (2509 + 34) / 2586]"
     ]
    },
    {
     "name": "stdout",
     "output_type": "stream",
     "text": [
      "1295.6314814090729 0:21:35.631481\n"
     ]
    },
    {
     "name": "stderr",
     "output_type": "stream",
     "text": [
      " 30%|███       | 3/10 [1:04:30<2:46:15, 1425.08s/it]=======> (2535 + 38) / 2586]"
     ]
    },
    {
     "name": "stdout",
     "output_type": "stream",
     "text": [
      "1867.4010529518127 0:31:07.401053\n"
     ]
    },
    {
     "name": "stderr",
     "output_type": "stream",
     "text": [
      " 40%|████      | 4/10 [1:45:42<3:03:51, 1838.61s/it]========>(2569 + 17) / 2586]"
     ]
    },
    {
     "name": "stdout",
     "output_type": "stream",
     "text": [
      "2472.555118560791 0:41:12.555119\n"
     ]
    },
    {
     "name": "stderr",
     "output_type": "stream",
     "text": [
      " 50%|█████     | 5/10 [2:37:26<3:11:14, 2294.84s/it]========>(2575 + 11) / 2586]"
     ]
    },
    {
     "name": "stdout",
     "output_type": "stream",
     "text": [
      "3103.7694895267487 0:51:43.769490\n"
     ]
    },
    {
     "name": "stderr",
     "output_type": "stream",
     "text": [
      " 60%|██████    | 6/10 [3:39:36<3:05:30, 2782.68s/it]=========>(2584 + 2) / 2586]"
     ]
    },
    {
     "name": "stdout",
     "output_type": "stream",
     "text": [
      "3729.6545066833496 1:02:09.654507\n"
     ]
    },
    {
     "name": "stderr",
     "output_type": "stream",
     "text": [
      " 70%|███████   | 7/10 [4:53:45<2:46:22, 3327.62s/it]=========>(2581 + 5) / 2586]"
     ]
    },
    {
     "name": "stdout",
     "output_type": "stream",
     "text": [
      "4449.565585851669 1:14:09.565586\n"
     ]
    },
    {
     "name": "stderr",
     "output_type": "stream",
     "text": [
      " 80%|████████  | 8/10 [6:21:51<2:11:41, 3950.85s/it]=========>(2584 + 2) / 2586]"
     ]
    },
    {
     "name": "stdout",
     "output_type": "stream",
     "text": [
      "5285.282224416733 1:28:05.282224\n"
     ]
    },
    {
     "name": "stderr",
     "output_type": "stream",
     "text": [
      " 90%|█████████ | 9/10 [8:00:49<1:16:12, 4572.18s/it]=========>(2585 + 1) / 2586]"
     ]
    },
    {
     "name": "stdout",
     "output_type": "stream",
     "text": [
      "5938.377403259277 1:38:58.377403\n"
     ]
    },
    {
     "name": "stderr",
     "output_type": "stream",
     "text": [
      "100%|██████████| 10/10 [9:53:12<00:00, 3559.24s/it] =========>(2584 + 2) / 2586]"
     ]
    },
    {
     "name": "stdout",
     "output_type": "stream",
     "text": [
      "6742.795735836029 1:52:22.795736\n"
     ]
    },
    {
     "name": "stderr",
     "output_type": "stream",
     "text": [
      "\n"
     ]
    }
   ],
   "source": [
    "run_time = []\n",
    "\n",
    "for i in tqdm(range(10)):\n",
    "    start = time.time()\n",
    "    \n",
    "    e = (i+1)*10    \n",
    "    combiner = hl.vds.new_combiner(\n",
    "        output_path ='vds/test{}.vds'.format(i),\n",
    "        temp_path='tmp/',\n",
    "        gvcf_paths= gvcfs[0:e],\n",
    "        use_genome_default_intervals = True\n",
    "    )\n",
    "    \n",
    "    combiner.run()\n",
    "    \n",
    "    end = time.time()\n",
    "    \n",
    "    sec = (end - start)\n",
    "    run_time.append(sec)\n",
    "    result = datetime.timedelta(seconds=sec)\n",
    "    print(sec, result)\n",
    "    \n",
    "    "
   ]
  },
  {
   "cell_type": "code",
   "execution_count": 6,
   "metadata": {},
   "outputs": [],
   "source": [
    "run_time = [707.310346364975,\n",
    " 1295.6314814090729,\n",
    " 1867.4010529518127,\n",
    " 2472.555118560791,\n",
    " 3103.7694895267487,\n",
    " 3729.6545066833496,\n",
    " 4449.565585851669,\n",
    " 5285.282224416733,\n",
    " 5938.377403259277,\n",
    " 6742.795735836029]"
   ]
  },
  {
   "cell_type": "code",
   "execution_count": 8,
   "metadata": {},
   "outputs": [],
   "source": [
    "x = []\n",
    "for i in range(10):\n",
    "    e = (i+1)*10\n",
    "    x.append(e)  "
   ]
  },
  {
   "cell_type": "code",
   "execution_count": 11,
   "metadata": {},
   "outputs": [
    {
     "data": {
      "text/plain": [
       "[10, 20, 30, 40, 50, 60, 70, 80, 90, 100]"
      ]
     },
     "execution_count": 11,
     "metadata": {},
     "output_type": "execute_result"
    }
   ],
   "source": [
    "x"
   ]
  },
  {
   "cell_type": "code",
   "execution_count": 12,
   "metadata": {},
   "outputs": [
    {
     "data": {
      "text/plain": [
       "[707.310346364975,\n",
       " 1295.6314814090729,\n",
       " 1867.4010529518127,\n",
       " 2472.555118560791,\n",
       " 3103.7694895267487,\n",
       " 3729.6545066833496,\n",
       " 4449.565585851669,\n",
       " 5285.282224416733,\n",
       " 5938.377403259277,\n",
       " 6742.795735836029]"
      ]
     },
     "execution_count": 12,
     "metadata": {},
     "output_type": "execute_result"
    }
   ],
   "source": [
    "run_time"
   ]
  },
  {
   "cell_type": "code",
   "execution_count": 17,
   "metadata": {},
   "outputs": [
    {
     "data": {
      "text/plain": [
       "(<Axes: xlabel='samples', ylabel='second'>,)"
      ]
     },
     "execution_count": 17,
     "metadata": {},
     "output_type": "execute_result"
    },
    {
     "data": {
      "image/png": "[encoded data removed]",
      "text/plain": [
       "<Figure size 640x480 with 1 Axes>"
      ]
     },
     "metadata": {},
     "output_type": "display_data"
    }
   ],
   "source": [
    "import seaborn as sns\n",
    "import pandas as pd\n",
    "\n",
    "df = pd.DataFrame({ \"samples\": x, \"second\": run_time})\n",
    "\n",
    "sns.lineplot(data=df, x=\"samples\", y=\"second\"), "
   ]
  },
  {
   "cell_type": "code",
   "execution_count": 9,
   "metadata": {},
   "outputs": [
    {
     "name": "stdout",
     "output_type": "stream",
     "text": [
      "0:11:47.310346\n",
      "0:21:35.631481\n",
      "0:31:07.401053\n",
      "0:41:12.555119\n",
      "0:51:43.769490\n",
      "1:02:09.654507\n",
      "1:14:09.565586\n",
      "1:28:05.282224\n",
      "1:38:58.377403\n",
      "1:52:22.795736\n"
     ]
    }
   ],
   "source": [
    "for sec in run_time:\n",
    "    print(datetime.timedelta(seconds=sec))"
   ]
  },
  {
   "cell_type": "code",
   "execution_count": 1,
   "metadata": {},
   "outputs": [
    {
     "ename": "NameError",
     "evalue": "name 'run_time' is not defined",
     "output_type": "error",
     "traceback": [
      "\u001b[0;31m---------------------------------------------------------------------------\u001b[0m",
      "\u001b[0;31mNameError\u001b[0m                                 Traceback (most recent call last)",
      "Cell \u001b[0;32mIn[1], line 1\u001b[0m\n\u001b[0;32m----> 1\u001b[0m \u001b[43mrun_time\u001b[49m\n",
      "\u001b[0;31mNameError\u001b[0m: name 'run_time' is not defined"
     ]
    }
   ],
   "source": [
    "run_time"
   ]
  },
  {
   "cell_type": "code",
   "execution_count": 5,
   "metadata": {},
   "outputs": [
    {
     "name": "stdout",
     "output_type": "stream",
     "text": [
      "22G\t./vds/test0.vds\n",
      "44G\t./vds/test1.vds\n",
      "60G\t./vds/test2.vds\n",
      "76G\t./vds/test3.vds\n",
      "92G\t./vds/test4.vds\n",
      "107G\t./vds/test5.vds\n",
      "125G\t./vds/test6.vds\n",
      "143G\t./vds/test7.vds\n",
      "159G\t./vds/test8.vds\n",
      "176G\t./vds/test9.vds\n"
     ]
    }
   ],
   "source": [
    "import os\n",
    "\n",
    "path = './vds/'\n",
    "\n",
    "for i in range(10):\n",
    "    #print(i)\n",
    "    dir = path + 'test{}.vds'.format(i)\n",
    "    !du -sh $dir\n",
    "    \n",
    "#gvcfs = [path + vcf for vcf in os.listdir(path) if vcf.endswith(fileEx)]"
   ]
  },
  {
   "cell_type": "code",
   "execution_count": null,
   "metadata": {},
   "outputs": [],
   "source": []
  },
  {
   "cell_type": "code",
   "execution_count": 6,
   "metadata": {},
   "outputs": [
    {
     "name": "stderr",
     "output_type": "stream",
     "text": [
      "2024-05-08 06:40:20.044 Hail: WARN: expected input file 'file:/home/bpark/projects/1kg/HG03073.hard-filtered.gvcf.bgz' to end in .vcf[.bgz, .gz]\n",
      "2024-05-08 06:40:20.601 Hail: WARN: expected input file 'file:/home/bpark/projects/1kg/HG03073.hard-filtered.gvcf.bgz' to end in .vcf[.bgz, .gz]\n",
      "2024-05-08 06:40:21.660 Hail: INFO: scanning VCF for sortedness...\n",
      "2024-05-08 06:41:22.967 Hail: INFO: Coerced sorted VCF - no additional import work to do\n",
      "2024-05-08 06:41:24.770 Hail: WARN: generated combiner save path of tmp/combiner-plans/vds-combiner-plan_15c241ef5c53c46b3b4f46bcce32e6cd5ff316b264bce32d2c7ab147e78a9158_0.2.130.json\n",
      "2024-05-08 06:42:07.302 Hail: INFO: Running VDS combiner:\n",
      "    VDS arguments: 0 datasets with 0 samples\n",
      "    GVCF arguments: 100 inputs/samples\n",
      "    Branch factor: 100\n",
      "    GVCF merge batch size: 50\n",
      "2024-05-08 06:42:07.391 Hail: INFO: GVCF combine (job 1): merging 100 GVCFs into 1 datasets\n",
      "2024-05-08 07:45:34.987 Hail: INFO: wrote matrix table with 2634328055 rows and 100 columns in 2586 partitions to vds/test.vds/reference_data\n",
      "2024-05-08 08:31:42.325 Hail: INFO: wrote matrix table with 36564641 rows and 100 columns in 2586 partitions to vds/test.vds/variant_data\n",
      "2024-05-08 08:31:42.395 Hail: INFO: VDS combiner: computing reference block max length...\n",
      "2024-05-08 08:35:42.037 Hail: INFO: Finished VDS combiner!\n"
     ]
    },
    {
     "name": "stderr",
     "output_type": "stream",
     "text": [
      "[Stage 1:>                                                          (0 + 4) / 4]\r"
     ]
    }
   ],
   "source": [
    "combiner = hl.vds.new_combiner(\n",
    "    output_path ='vds/test.vds',\n",
    "    temp_path='tmp/',\n",
    "    #save_path='tmp',\n",
    "    gvcf_paths= gvcfs,\n",
    "    use_genome_default_intervals = True\n",
    ")"
   ]
  },
  {
   "cell_type": "code",
   "execution_count": 7,
   "metadata": {},
   "outputs": [
    {
     "name": "stderr",
     "output_type": "stream",
     "text": [
      "[Stage 6:====================================================>(2583 + 3) / 2586]\r"
     ]
    },
    {
     "name": "stdout",
     "output_type": "stream",
     "text": [
      "CPU times: user 5.78 s, sys: 2.39 s, total: 8.16 s\n",
      "Wall time: 1h 53min 34s\n"
     ]
    },
    {
     "name": "stderr",
     "output_type": "stream",
     "text": [
      "[Stage 6:====================================================>(2585 + 1) / 2586]\r"
     ]
    }
   ],
   "source": [
    "%%time\n",
    "combiner.run()"
   ]
  },
  {
   "cell_type": "code",
   "execution_count": 18,
   "metadata": {},
   "outputs": [
    {
     "name": "stdout",
     "output_type": "stream",
     "text": [
      "CPU times: user 22 ms, sys: 0 ns, total: 22 ms\n",
      "Wall time: 184 ms\n"
     ]
    }
   ],
   "source": [
    "%%time\n",
    "vds = hl.vds.read_vds('vds/test.vds')"
   ]
  },
  {
   "cell_type": "code",
   "execution_count": 19,
   "metadata": {},
   "outputs": [
    {
     "name": "stderr",
     "output_type": "stream",
     "text": [
      "[Stage 6:====================================================>(2585 + 1) / 2586]\r"
     ]
    },
    {
     "name": "stdout",
     "output_type": "stream",
     "text": [
      "CPU times: user 1.96 s, sys: 867 ms, total: 2.82 s\n",
      "Wall time: 20min 28s\n"
     ]
    }
   ],
   "source": [
    "%%time\n",
    "dense_mt = hl.vds.to_dense_mt(vds)\n",
    "dense_mt.write('mt/dense.mt')"
   ]
  },
  {
   "cell_type": "code",
   "execution_count": 20,
   "metadata": {},
   "outputs": [
    {
     "ename": "FatalError",
     "evalue": "HailException: VCF does not support the type(s) for the following FORMAT field(s):\n\t'gvcf_info': 'struct{DB: bool, FS: float64, FractionInformativeReads: float64, LOD: float64, MQ: float64, MQRankSum: float64, QD: float64, R2_5P_bias: float64, ReadPosRankSum: float64, SOR: float64}'.\n\nJava stack trace:\nis.hail.utils.HailException: VCF does not support the type(s) for the following FORMAT field(s):\n\t'gvcf_info': 'struct{DB: bool, FS: float64, FractionInformativeReads: float64, LOD: float64, MQ: float64, MQRankSum: float64, QD: float64, R2_5P_bias: float64, ReadPosRankSum: float64, SOR: float64}'.\n\tat is.hail.utils.ErrorHandling.fatal(ErrorHandling.scala:19)\n\tat is.hail.utils.ErrorHandling.fatal$(ErrorHandling.scala:19)\n\tat is.hail.utils.package$.fatal(package.scala:89)\n\tat is.hail.io.vcf.ExportVCF$.checkFormatSignature(ExportVCF.scala:128)\n\tat is.hail.expr.ir.MatrixVCFWriter.lower(MatrixWriter.scala:768)\n\tat is.hail.expr.ir.WrappedMatrixWriter.lower(MatrixWriter.scala:68)\n\tat is.hail.expr.ir.lowering.LowerTableIR$.apply(LowerTableIR.scala:1021)\n\tat is.hail.expr.ir.lowering.LowerToCDA$.lower(LowerToCDA.scala:27)\n\tat is.hail.expr.ir.lowering.LowerToCDA$.apply(LowerToCDA.scala:11)\n\tat is.hail.expr.ir.lowering.LowerToDistributedArrayPass.transform(LoweringPass.scala:91)\n\tat is.hail.expr.ir.LowerOrInterpretNonCompilable$.evaluate$1(LowerOrInterpretNonCompilable.scala:27)\n\tat is.hail.expr.ir.LowerOrInterpretNonCompilable$.rewrite$1(LowerOrInterpretNonCompilable.scala:59)\n\tat is.hail.expr.ir.LowerOrInterpretNonCompilable$.apply(LowerOrInterpretNonCompilable.scala:64)\n\tat is.hail.expr.ir.lowering.LowerOrInterpretNonCompilablePass$.transform(LoweringPass.scala:83)\n\tat is.hail.expr.ir.lowering.LoweringPass.$anonfun$apply$3(LoweringPass.scala:32)\n\tat is.hail.utils.ExecutionTimer.time(ExecutionTimer.scala:84)\n\tat is.hail.expr.ir.lowering.LoweringPass.$anonfun$apply$1(LoweringPass.scala:32)\n\tat is.hail.utils.ExecutionTimer.time(ExecutionTimer.scala:84)\n\tat is.hail.expr.ir.lowering.LoweringPass.apply(LoweringPass.scala:30)\n\tat is.hail.expr.ir.lowering.LoweringPass.apply$(LoweringPass.scala:29)\n\tat is.hail.expr.ir.lowering.LowerOrInterpretNonCompilablePass$.apply(LoweringPass.scala:78)\n\tat is.hail.expr.ir.lowering.LoweringPipeline.$anonfun$apply$1(LoweringPipeline.scala:21)\n\tat is.hail.expr.ir.lowering.LoweringPipeline.$anonfun$apply$1$adapted(LoweringPipeline.scala:19)\n\tat scala.collection.mutable.ResizableArray.foreach(ResizableArray.scala:62)\n\tat scala.collection.mutable.ResizableArray.foreach$(ResizableArray.scala:55)\n\tat scala.collection.mutable.ArrayBuffer.foreach(ArrayBuffer.scala:49)\n\tat is.hail.expr.ir.lowering.LoweringPipeline.apply(LoweringPipeline.scala:19)\n\tat is.hail.expr.ir.CompileAndEvaluate$._apply(CompileAndEvaluate.scala:45)\n\tat is.hail.backend.spark.SparkBackend._execute(SparkBackend.scala:600)\n\tat is.hail.backend.spark.SparkBackend.$anonfun$execute$4(SparkBackend.scala:636)\n\tat is.hail.utils.ExecutionTimer.time(ExecutionTimer.scala:84)\n\tat is.hail.backend.spark.SparkBackend.$anonfun$execute$3(SparkBackend.scala:631)\n\tat is.hail.backend.spark.SparkBackend.$anonfun$execute$3$adapted(SparkBackend.scala:630)\n\tat is.hail.backend.ExecuteContext$.$anonfun$scoped$3(ExecuteContext.scala:78)\n\tat is.hail.utils.package$.using(package.scala:664)\n\tat is.hail.backend.ExecuteContext$.$anonfun$scoped$2(ExecuteContext.scala:78)\n\tat is.hail.utils.package$.using(package.scala:664)\n\tat is.hail.annotations.RegionPool$.scoped(RegionPool.scala:13)\n\tat is.hail.backend.ExecuteContext$.scoped(ExecuteContext.scala:65)\n\tat is.hail.backend.spark.SparkBackend.$anonfun$withExecuteContext$2(SparkBackend.scala:407)\n\tat is.hail.utils.ExecutionTimer$.time(ExecutionTimer.scala:55)\n\tat is.hail.utils.ExecutionTimer$.logTime(ExecutionTimer.scala:62)\n\tat is.hail.backend.spark.SparkBackend.withExecuteContext(SparkBackend.scala:393)\n\tat is.hail.backend.spark.SparkBackend.execute(SparkBackend.scala:630)\n\tat is.hail.backend.BackendHttpHandler.handle(BackendServer.scala:88)\n\tat com.sun.net.httpserver.Filter$Chain.doFilter(Filter.java:79)\n\tat sun.net.httpserver.AuthFilter.doFilter(AuthFilter.java:83)\n\tat com.sun.net.httpserver.Filter$Chain.doFilter(Filter.java:82)\n\tat sun.net.httpserver.ServerImpl$Exchange$LinkHandler.handle(ServerImpl.java:822)\n\tat com.sun.net.httpserver.Filter$Chain.doFilter(Filter.java:79)\n\tat sun.net.httpserver.ServerImpl$Exchange.run(ServerImpl.java:794)\n\tat sun.net.httpserver.ServerImpl$DefaultExecutor.execute(ServerImpl.java:199)\n\tat sun.net.httpserver.ServerImpl$Dispatcher.handle(ServerImpl.java:544)\n\tat sun.net.httpserver.ServerImpl$Dispatcher.run(ServerImpl.java:509)\n\tat java.lang.Thread.run(Thread.java:750)\n\n\n\nHail version: 0.2.130-bea04d9c79b5\nError summary: HailException: VCF does not support the type(s) for the following FORMAT field(s):\n\t'gvcf_info': 'struct{DB: bool, FS: float64, FractionInformativeReads: float64, LOD: float64, MQ: float64, MQRankSum: float64, QD: float64, R2_5P_bias: float64, ReadPosRankSum: float64, SOR: float64}'.",
     "output_type": "error",
     "traceback": [
      "\u001b[0;31m---------------------------------------------------------------------------\u001b[0m",
      "\u001b[0;31mFatalError\u001b[0m                                Traceback (most recent call last)",
      "File \u001b[0;32m<timed eval>:1\u001b[0m\n",
      "File \u001b[0;32m~/miniconda3/envs/hail/lib/python3.9/site-packages/decorator.py:232\u001b[0m, in \u001b[0;36mdecorate.<locals>.fun\u001b[0;34m(*args, **kw)\u001b[0m\n\u001b[1;32m    230\u001b[0m \u001b[38;5;28;01mif\u001b[39;00m \u001b[38;5;129;01mnot\u001b[39;00m kwsyntax:\n\u001b[1;32m    231\u001b[0m     args, kw \u001b[38;5;241m=\u001b[39m fix(args, kw, sig)\n\u001b[0;32m--> 232\u001b[0m \u001b[38;5;28;01mreturn\u001b[39;00m \u001b[43mcaller\u001b[49m\u001b[43m(\u001b[49m\u001b[43mfunc\u001b[49m\u001b[43m,\u001b[49m\u001b[43m \u001b[49m\u001b[38;5;241;43m*\u001b[39;49m\u001b[43m(\u001b[49m\u001b[43mextras\u001b[49m\u001b[43m \u001b[49m\u001b[38;5;241;43m+\u001b[39;49m\u001b[43m \u001b[49m\u001b[43margs\u001b[49m\u001b[43m)\u001b[49m\u001b[43m,\u001b[49m\u001b[43m \u001b[49m\u001b[38;5;241;43m*\u001b[39;49m\u001b[38;5;241;43m*\u001b[39;49m\u001b[43mkw\u001b[49m\u001b[43m)\u001b[49m\n",
      "File \u001b[0;32m~/miniconda3/envs/hail/lib/python3.9/site-packages/hail/typecheck/check.py:585\u001b[0m, in \u001b[0;36m_make_dec.<locals>.wrapper\u001b[0;34m(__original_func, *args, **kwargs)\u001b[0m\n\u001b[1;32m    582\u001b[0m \u001b[38;5;129m@decorator\u001b[39m\n\u001b[1;32m    583\u001b[0m \u001b[38;5;28;01mdef\u001b[39;00m \u001b[38;5;21mwrapper\u001b[39m(__original_func: Callable[\u001b[38;5;241m.\u001b[39m\u001b[38;5;241m.\u001b[39m\u001b[38;5;241m.\u001b[39m, T], \u001b[38;5;241m*\u001b[39margs, \u001b[38;5;241m*\u001b[39m\u001b[38;5;241m*\u001b[39mkwargs) \u001b[38;5;241m-\u001b[39m\u001b[38;5;241m>\u001b[39m T:\n\u001b[1;32m    584\u001b[0m     args_, kwargs_ \u001b[38;5;241m=\u001b[39m check_all(__original_func, args, kwargs, checkers, is_method\u001b[38;5;241m=\u001b[39mis_method)\n\u001b[0;32m--> 585\u001b[0m     \u001b[38;5;28;01mreturn\u001b[39;00m \u001b[43m__original_func\u001b[49m\u001b[43m(\u001b[49m\u001b[38;5;241;43m*\u001b[39;49m\u001b[43margs_\u001b[49m\u001b[43m,\u001b[49m\u001b[43m \u001b[49m\u001b[38;5;241;43m*\u001b[39;49m\u001b[38;5;241;43m*\u001b[39;49m\u001b[43mkwargs_\u001b[49m\u001b[43m)\u001b[49m\n",
      "File \u001b[0;32m~/miniconda3/envs/hail/lib/python3.9/site-packages/hail/methods/impex.py:636\u001b[0m, in \u001b[0;36mexport_vcf\u001b[0;34m(dataset, output, append_to_header, parallel, metadata, tabix)\u001b[0m\n\u001b[1;32m    633\u001b[0m parallel \u001b[38;5;241m=\u001b[39m ir\u001b[38;5;241m.\u001b[39mExportType\u001b[38;5;241m.\u001b[39mdefault(parallel)\n\u001b[1;32m    635\u001b[0m writer \u001b[38;5;241m=\u001b[39m ir\u001b[38;5;241m.\u001b[39mMatrixVCFWriter(output, append_to_header, parallel, metadata, tabix)\n\u001b[0;32m--> 636\u001b[0m \u001b[43mEnv\u001b[49m\u001b[38;5;241;43m.\u001b[39;49m\u001b[43mbackend\u001b[49m\u001b[43m(\u001b[49m\u001b[43m)\u001b[49m\u001b[38;5;241;43m.\u001b[39;49m\u001b[43mexecute\u001b[49m\u001b[43m(\u001b[49m\u001b[43mir\u001b[49m\u001b[38;5;241;43m.\u001b[39;49m\u001b[43mMatrixWrite\u001b[49m\u001b[43m(\u001b[49m\u001b[43mdataset\u001b[49m\u001b[38;5;241;43m.\u001b[39;49m\u001b[43m_mir\u001b[49m\u001b[43m,\u001b[49m\u001b[43m \u001b[49m\u001b[43mwriter\u001b[49m\u001b[43m)\u001b[49m\u001b[43m)\u001b[49m\n",
      "File \u001b[0;32m~/miniconda3/envs/hail/lib/python3.9/site-packages/hail/backend/spark_backend.py:226\u001b[0m, in \u001b[0;36mSparkBackend.execute\u001b[0;34m(self, ir, timed)\u001b[0m\n\u001b[1;32m    223\u001b[0m     \u001b[38;5;28;01mexcept\u001b[39;00m \u001b[38;5;167;01mException\u001b[39;00m \u001b[38;5;28;01mas\u001b[39;00m fatal:\n\u001b[1;32m    224\u001b[0m         \u001b[38;5;28;01mraise\u001b[39;00m err \u001b[38;5;28;01mfrom\u001b[39;00m \u001b[38;5;21;01mfatal\u001b[39;00m\n\u001b[0;32m--> 226\u001b[0m \u001b[38;5;28;01mraise\u001b[39;00m err\n",
      "File \u001b[0;32m~/miniconda3/envs/hail/lib/python3.9/site-packages/hail/backend/spark_backend.py:218\u001b[0m, in \u001b[0;36mSparkBackend.execute\u001b[0;34m(self, ir, timed)\u001b[0m\n\u001b[1;32m    216\u001b[0m \u001b[38;5;28;01mdef\u001b[39;00m \u001b[38;5;21mexecute\u001b[39m(\u001b[38;5;28mself\u001b[39m, ir: BaseIR, timed: \u001b[38;5;28mbool\u001b[39m \u001b[38;5;241m=\u001b[39m \u001b[38;5;28;01mFalse\u001b[39;00m) \u001b[38;5;241m-\u001b[39m\u001b[38;5;241m>\u001b[39m Any:\n\u001b[1;32m    217\u001b[0m     \u001b[38;5;28;01mtry\u001b[39;00m:\n\u001b[0;32m--> 218\u001b[0m         \u001b[38;5;28;01mreturn\u001b[39;00m \u001b[38;5;28;43msuper\u001b[39;49m\u001b[43m(\u001b[49m\u001b[43m)\u001b[49m\u001b[38;5;241;43m.\u001b[39;49m\u001b[43mexecute\u001b[49m\u001b[43m(\u001b[49m\u001b[43mir\u001b[49m\u001b[43m,\u001b[49m\u001b[43m \u001b[49m\u001b[43mtimed\u001b[49m\u001b[43m)\u001b[49m\n\u001b[1;32m    219\u001b[0m     \u001b[38;5;28;01mexcept\u001b[39;00m \u001b[38;5;167;01mException\u001b[39;00m \u001b[38;5;28;01mas\u001b[39;00m err:\n\u001b[1;32m    220\u001b[0m         \u001b[38;5;28;01mif\u001b[39;00m \u001b[38;5;28mself\u001b[39m\u001b[38;5;241m.\u001b[39m_copy_log_on_error:\n",
      "File \u001b[0;32m~/miniconda3/envs/hail/lib/python3.9/site-packages/hail/backend/backend.py:190\u001b[0m, in \u001b[0;36mBackend.execute\u001b[0;34m(self, ir, timed)\u001b[0m\n\u001b[1;32m    188\u001b[0m     result, timings \u001b[38;5;241m=\u001b[39m \u001b[38;5;28mself\u001b[39m\u001b[38;5;241m.\u001b[39m_rpc(ActionTag\u001b[38;5;241m.\u001b[39mEXECUTE, payload)\n\u001b[1;32m    189\u001b[0m \u001b[38;5;28;01mexcept\u001b[39;00m FatalError \u001b[38;5;28;01mas\u001b[39;00m e:\n\u001b[0;32m--> 190\u001b[0m     \u001b[38;5;28;01mraise\u001b[39;00m e\u001b[38;5;241m.\u001b[39mmaybe_user_error(ir) \u001b[38;5;28;01mfrom\u001b[39;00m \u001b[38;5;28;01mNone\u001b[39;00m\n\u001b[1;32m    191\u001b[0m \u001b[38;5;28;01mif\u001b[39;00m ir\u001b[38;5;241m.\u001b[39mtyp \u001b[38;5;241m==\u001b[39m tvoid:\n\u001b[1;32m    192\u001b[0m     value \u001b[38;5;241m=\u001b[39m \u001b[38;5;28;01mNone\u001b[39;00m\n",
      "File \u001b[0;32m~/miniconda3/envs/hail/lib/python3.9/site-packages/hail/backend/backend.py:188\u001b[0m, in \u001b[0;36mBackend.execute\u001b[0;34m(self, ir, timed)\u001b[0m\n\u001b[1;32m    186\u001b[0m payload \u001b[38;5;241m=\u001b[39m ExecutePayload(\u001b[38;5;28mself\u001b[39m\u001b[38;5;241m.\u001b[39m_render_ir(ir), \u001b[38;5;124m'\u001b[39m\u001b[38;5;124m{\u001b[39m\u001b[38;5;124m\"\u001b[39m\u001b[38;5;124mname\u001b[39m\u001b[38;5;124m\"\u001b[39m\u001b[38;5;124m:\u001b[39m\u001b[38;5;124m\"\u001b[39m\u001b[38;5;124mStreamBufferSpec\u001b[39m\u001b[38;5;124m\"\u001b[39m\u001b[38;5;124m}\u001b[39m\u001b[38;5;124m'\u001b[39m, timed)\n\u001b[1;32m    187\u001b[0m \u001b[38;5;28;01mtry\u001b[39;00m:\n\u001b[0;32m--> 188\u001b[0m     result, timings \u001b[38;5;241m=\u001b[39m \u001b[38;5;28;43mself\u001b[39;49m\u001b[38;5;241;43m.\u001b[39;49m\u001b[43m_rpc\u001b[49m\u001b[43m(\u001b[49m\u001b[43mActionTag\u001b[49m\u001b[38;5;241;43m.\u001b[39;49m\u001b[43mEXECUTE\u001b[49m\u001b[43m,\u001b[49m\u001b[43m \u001b[49m\u001b[43mpayload\u001b[49m\u001b[43m)\u001b[49m\n\u001b[1;32m    189\u001b[0m \u001b[38;5;28;01mexcept\u001b[39;00m FatalError \u001b[38;5;28;01mas\u001b[39;00m e:\n\u001b[1;32m    190\u001b[0m     \u001b[38;5;28;01mraise\u001b[39;00m e\u001b[38;5;241m.\u001b[39mmaybe_user_error(ir) \u001b[38;5;28;01mfrom\u001b[39;00m \u001b[38;5;28;01mNone\u001b[39;00m\n",
      "File \u001b[0;32m~/miniconda3/envs/hail/lib/python3.9/site-packages/hail/backend/py4j_backend.py:221\u001b[0m, in \u001b[0;36mPy4JBackend._rpc\u001b[0;34m(self, action, payload)\u001b[0m\n\u001b[1;32m    219\u001b[0m \u001b[38;5;28;01mif\u001b[39;00m resp\u001b[38;5;241m.\u001b[39mstatus_code \u001b[38;5;241m>\u001b[39m\u001b[38;5;241m=\u001b[39m \u001b[38;5;241m400\u001b[39m:\n\u001b[1;32m    220\u001b[0m     error_json \u001b[38;5;241m=\u001b[39m orjson\u001b[38;5;241m.\u001b[39mloads(resp\u001b[38;5;241m.\u001b[39mcontent)\n\u001b[0;32m--> 221\u001b[0m     \u001b[38;5;28;01mraise\u001b[39;00m fatal_error_from_java_error_triplet(\n\u001b[1;32m    222\u001b[0m         error_json[\u001b[38;5;124m'\u001b[39m\u001b[38;5;124mshort\u001b[39m\u001b[38;5;124m'\u001b[39m], error_json[\u001b[38;5;124m'\u001b[39m\u001b[38;5;124mexpanded\u001b[39m\u001b[38;5;124m'\u001b[39m], error_json[\u001b[38;5;124m'\u001b[39m\u001b[38;5;124merror_id\u001b[39m\u001b[38;5;124m'\u001b[39m]\n\u001b[1;32m    223\u001b[0m     )\n\u001b[1;32m    224\u001b[0m \u001b[38;5;28;01mreturn\u001b[39;00m resp\u001b[38;5;241m.\u001b[39mcontent, resp\u001b[38;5;241m.\u001b[39mheaders\u001b[38;5;241m.\u001b[39mget(\u001b[38;5;124m'\u001b[39m\u001b[38;5;124mX-Hail-Timings\u001b[39m\u001b[38;5;124m'\u001b[39m, \u001b[38;5;124m'\u001b[39m\u001b[38;5;124m'\u001b[39m)\n",
      "\u001b[0;31mFatalError\u001b[0m: HailException: VCF does not support the type(s) for the following FORMAT field(s):\n\t'gvcf_info': 'struct{DB: bool, FS: float64, FractionInformativeReads: float64, LOD: float64, MQ: float64, MQRankSum: float64, QD: float64, R2_5P_bias: float64, ReadPosRankSum: float64, SOR: float64}'.\n\nJava stack trace:\nis.hail.utils.HailException: VCF does not support the type(s) for the following FORMAT field(s):\n\t'gvcf_info': 'struct{DB: bool, FS: float64, FractionInformativeReads: float64, LOD: float64, MQ: float64, MQRankSum: float64, QD: float64, R2_5P_bias: float64, ReadPosRankSum: float64, SOR: float64}'.\n\tat is.hail.utils.ErrorHandling.fatal(ErrorHandling.scala:19)\n\tat is.hail.utils.ErrorHandling.fatal$(ErrorHandling.scala:19)\n\tat is.hail.utils.package$.fatal(package.scala:89)\n\tat is.hail.io.vcf.ExportVCF$.checkFormatSignature(ExportVCF.scala:128)\n\tat is.hail.expr.ir.MatrixVCFWriter.lower(MatrixWriter.scala:768)\n\tat is.hail.expr.ir.WrappedMatrixWriter.lower(MatrixWriter.scala:68)\n\tat is.hail.expr.ir.lowering.LowerTableIR$.apply(LowerTableIR.scala:1021)\n\tat is.hail.expr.ir.lowering.LowerToCDA$.lower(LowerToCDA.scala:27)\n\tat is.hail.expr.ir.lowering.LowerToCDA$.apply(LowerToCDA.scala:11)\n\tat is.hail.expr.ir.lowering.LowerToDistributedArrayPass.transform(LoweringPass.scala:91)\n\tat is.hail.expr.ir.LowerOrInterpretNonCompilable$.evaluate$1(LowerOrInterpretNonCompilable.scala:27)\n\tat is.hail.expr.ir.LowerOrInterpretNonCompilable$.rewrite$1(LowerOrInterpretNonCompilable.scala:59)\n\tat is.hail.expr.ir.LowerOrInterpretNonCompilable$.apply(LowerOrInterpretNonCompilable.scala:64)\n\tat is.hail.expr.ir.lowering.LowerOrInterpretNonCompilablePass$.transform(LoweringPass.scala:83)\n\tat is.hail.expr.ir.lowering.LoweringPass.$anonfun$apply$3(LoweringPass.scala:32)\n\tat is.hail.utils.ExecutionTimer.time(ExecutionTimer.scala:84)\n\tat is.hail.expr.ir.lowering.LoweringPass.$anonfun$apply$1(LoweringPass.scala:32)\n\tat is.hail.utils.ExecutionTimer.time(ExecutionTimer.scala:84)\n\tat is.hail.expr.ir.lowering.LoweringPass.apply(LoweringPass.scala:30)\n\tat is.hail.expr.ir.lowering.LoweringPass.apply$(LoweringPass.scala:29)\n\tat is.hail.expr.ir.lowering.LowerOrInterpretNonCompilablePass$.apply(LoweringPass.scala:78)\n\tat is.hail.expr.ir.lowering.LoweringPipeline.$anonfun$apply$1(LoweringPipeline.scala:21)\n\tat is.hail.expr.ir.lowering.LoweringPipeline.$anonfun$apply$1$adapted(LoweringPipeline.scala:19)\n\tat scala.collection.mutable.ResizableArray.foreach(ResizableArray.scala:62)\n\tat scala.collection.mutable.ResizableArray.foreach$(ResizableArray.scala:55)\n\tat scala.collection.mutable.ArrayBuffer.foreach(ArrayBuffer.scala:49)\n\tat is.hail.expr.ir.lowering.LoweringPipeline.apply(LoweringPipeline.scala:19)\n\tat is.hail.expr.ir.CompileAndEvaluate$._apply(CompileAndEvaluate.scala:45)\n\tat is.hail.backend.spark.SparkBackend._execute(SparkBackend.scala:600)\n\tat is.hail.backend.spark.SparkBackend.$anonfun$execute$4(SparkBackend.scala:636)\n\tat is.hail.utils.ExecutionTimer.time(ExecutionTimer.scala:84)\n\tat is.hail.backend.spark.SparkBackend.$anonfun$execute$3(SparkBackend.scala:631)\n\tat is.hail.backend.spark.SparkBackend.$anonfun$execute$3$adapted(SparkBackend.scala:630)\n\tat is.hail.backend.ExecuteContext$.$anonfun$scoped$3(ExecuteContext.scala:78)\n\tat is.hail.utils.package$.using(package.scala:664)\n\tat is.hail.backend.ExecuteContext$.$anonfun$scoped$2(ExecuteContext.scala:78)\n\tat is.hail.utils.package$.using(package.scala:664)\n\tat is.hail.annotations.RegionPool$.scoped(RegionPool.scala:13)\n\tat is.hail.backend.ExecuteContext$.scoped(ExecuteContext.scala:65)\n\tat is.hail.backend.spark.SparkBackend.$anonfun$withExecuteContext$2(SparkBackend.scala:407)\n\tat is.hail.utils.ExecutionTimer$.time(ExecutionTimer.scala:55)\n\tat is.hail.utils.ExecutionTimer$.logTime(ExecutionTimer.scala:62)\n\tat is.hail.backend.spark.SparkBackend.withExecuteContext(SparkBackend.scala:393)\n\tat is.hail.backend.spark.SparkBackend.execute(SparkBackend.scala:630)\n\tat is.hail.backend.BackendHttpHandler.handle(BackendServer.scala:88)\n\tat com.sun.net.httpserver.Filter$Chain.doFilter(Filter.java:79)\n\tat sun.net.httpserver.AuthFilter.doFilter(AuthFilter.java:83)\n\tat com.sun.net.httpserver.Filter$Chain.doFilter(Filter.java:82)\n\tat sun.net.httpserver.ServerImpl$Exchange$LinkHandler.handle(ServerImpl.java:822)\n\tat com.sun.net.httpserver.Filter$Chain.doFilter(Filter.java:79)\n\tat sun.net.httpserver.ServerImpl$Exchange.run(ServerImpl.java:794)\n\tat sun.net.httpserver.ServerImpl$DefaultExecutor.execute(ServerImpl.java:199)\n\tat sun.net.httpserver.ServerImpl$Dispatcher.handle(ServerImpl.java:544)\n\tat sun.net.httpserver.ServerImpl$Dispatcher.run(ServerImpl.java:509)\n\tat java.lang.Thread.run(Thread.java:750)\n\n\n\nHail version: 0.2.130-bea04d9c79b5\nError summary: HailException: VCF does not support the type(s) for the following FORMAT field(s):\n\t'gvcf_info': 'struct{DB: bool, FS: float64, FractionInformativeReads: float64, LOD: float64, MQ: float64, MQRankSum: float64, QD: float64, R2_5P_bias: float64, ReadPosRankSum: float64, SOR: float64}'."
     ]
    }
   ],
   "source": [
    "%%time\n",
    "hl.export_vcf(dense_mt, 'vcf/dense.vcf.bgz')"
   ]
  },
  {
   "cell_type": "code",
   "execution_count": 25,
   "metadata": {},
   "outputs": [
    {
     "name": "stderr",
     "output_type": "stream",
     "text": [
      "[Stage 7:====================================================>(2585 + 1) / 2586]\r"
     ]
    },
    {
     "name": "stdout",
     "output_type": "stream",
     "text": [
      "CPU times: user 1.14 s, sys: 464 ms, total: 1.6 s\n",
      "Wall time: 12min 43s\n"
     ]
    }
   ],
   "source": [
    "%%time\n",
    "sparse_mt = hl.vds.to_merged_sparse_mt(vds, ref_allele_function=lambda locus: hl.missing('str'))\n",
    "sparse_mt.write('mt/sparse.mt')"
   ]
  },
  {
   "cell_type": "code",
   "execution_count": 22,
   "metadata": {},
   "outputs": [
    {
     "ename": "NameError",
     "evalue": "name 'sparse_mt' is not defined",
     "output_type": "error",
     "traceback": [
      "\u001b[0;31m---------------------------------------------------------------------------\u001b[0m",
      "\u001b[0;31mNameError\u001b[0m                                 Traceback (most recent call last)",
      "File \u001b[0;32m<timed eval>:1\u001b[0m\n",
      "\u001b[0;31mNameError\u001b[0m: name 'sparse_mt' is not defined"
     ]
    }
   ],
   "source": [
    "%%time\n",
    "hl.export_vcf(sparse_mt, 'vcf/sparse.vcf.bgz')"
   ]
  },
  {
   "cell_type": "code",
   "execution_count": 44,
   "metadata": {},
   "outputs": [],
   "source": [
    "hl.stop()"
   ]
  },
  {
   "cell_type": "code",
   "execution_count": null,
   "metadata": {},
   "outputs": [],
   "source": [
    "!rename 's/.gz/.bgz/' *.gvcf.gz"
   ]
  }
 ],
 "metadata": {
  "kernelspec": {
   "display_name": "hail",
   "language": "python",
   "name": "python3"
  },
  "language_info": {
   "codemirror_mode": {
    "name": "ipython",
    "version": 3
   },
   "file_extension": ".py",
   "mimetype": "text/x-python",
   "name": "python",
   "nbconvert_exporter": "python",
   "pygments_lexer": "ipython3",
   "version": "3.9.19"
  }
 },
 "nbformat": 4,
 "nbformat_minor": 2
}
